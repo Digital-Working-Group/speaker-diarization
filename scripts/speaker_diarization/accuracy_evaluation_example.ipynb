{
 "cells": [
  {
   "cell_type": "markdown",
   "id": "48b11860",
   "metadata": {},
   "source": [
    "# Accuracy Evaluation"
   ]
  },
  {
   "cell_type": "markdown",
   "id": "d35b9df6",
   "metadata": {},
   "source": [
    "This notebook goes through an example of evaluating the accuracy of a speaker diarization tool.\n",
    "\n",
    "The `process_accuracy()` function evaluates predictions using the Diarization Error rate, and the Jaccard Error rate."
   ]
  },
  {
   "cell_type": "markdown",
   "id": "6717786a",
   "metadata": {},
   "source": [
    "## Accuracy Evaluation Example"
   ]
  },
  {
   "cell_type": "markdown",
   "id": "da4f2736",
   "metadata": {},
   "source": [
    "This script uses the VoxConverse v0.3 dataset via Hugging Face, which contains a collection of multi-speaker audio .wav files and labeled RTTM files for comparison.\n",
    "\n",
    "For instructions on how to get set up with this dataset, please view the [calculate performance](https://github.com/Digital-Working-Group/speaker-diarization/blob/main/README.md#calculate-performance-metrics) section of the README."
   ]
  },
  {
   "cell_type": "code",
   "execution_count": 3,
   "id": "d4f9bf3d",
   "metadata": {},
   "outputs": [],
   "source": [
    "import json\n",
    "from pyannote.metrics.diarization import DiarizationErrorRate, JaccardErrorRate\n",
    "from tqdm import tqdm\n",
    "from dataset import *\n",
    "from engine import *\n",
    "from util import load_rttm, rttm_to_annotation\n",
    "from read_token import read_token\n",
    "from speaker_diarization_evaluate import _process_accuracy\n",
    "import os"
   ]
  },
  {
   "cell_type": "code",
   "execution_count": 4,
   "id": "e0387c64",
   "metadata": {},
   "outputs": [],
   "source": [
    "import warnings\n",
    "warnings.filterwarnings('ignore')"
   ]
  },
  {
   "cell_type": "code",
   "execution_count": 7,
   "id": "293f1258",
   "metadata": {},
   "outputs": [
    {
     "name": "stdout",
     "output_type": "stream",
     "text": [
      "Dataset: VoxConverse\n",
      "Engine: PYANNOTE\n"
     ]
    },
    {
     "name": "stderr",
     "output_type": "stream",
     "text": [
      "\r",
      "  0%|                                | 0/9 [00:00<?, ?it/s]"
     ]
    },
    {
     "name": "stdout",
     "output_type": "stream",
     "text": [
      "Processing C:\\Users\\hazel\\speaker-diarization\\scripts\\speaker_diarization\\hf_voxconverse_data\\sample_1\\sample_1.wav...\n"
     ]
    },
    {
     "name": "stderr",
     "output_type": "stream",
     "text": [
      "\r",
      " 11%|██                | 1/9 [1:14:39<9:57:18, 4479.82s/it]"
     ]
    },
    {
     "name": "stdout",
     "output_type": "stream",
     "text": [
      "GT segments: [<Segment(1.516, 3.035)>, <Segment(3.035, 7.693)>, <Segment(9.211, 21.277)>, <Segment(21.631, 52.934)>, <Segment(53.879, 58.621)>, <Segment(58.891, 69.185)>, <Segment(69.185, 99.644)>, <Segment(100.15, 137.967)>, <Segment(137.967, 141.798)>, <Segment(141.882, 162.52)>, <Segment(162.52, 168.325)>, <Segment(168.865, 193.772)>, <Segment(189.706, 189.942)>, <Segment(193.081, 195.933)>, <Segment(197.502, 198.379)>]\n",
      "HYP segments: [<Segment(1.51597, 3.03472)>, <Segment(3.03472, 7.69222)>, <Segment(9.21097, 21.2766)>, <Segment(21.631, 52.9341)>, <Segment(53.8791, 58.621)>, <Segment(58.891, 69.1847)>, <Segment(69.1847, 99.6441)>, <Segment(100.15, 137.967)>, <Segment(137.967, 141.798)>, <Segment(141.882, 162.52)>, <Segment(162.52, 168.325)>, <Segment(168.865, 193.773)>, <Segment(189.706, 189.942)>, <Segment(193.081, 195.933)>, <Segment(197.502, 198.38)>]\n",
      "diarization error rate: {'missed detection': 0.0027500000000211244, 'confusion': 0.001125000000001375, 'false alarm': 0.0024999999999930633, 'total': 190.14999999999998, 'correct': 190.14612499999996, 'diarization error rate': 3.3526163555169934e-05}\n",
      "GT segments: [<Segment(1.516, 3.035)>, <Segment(3.035, 7.693)>, <Segment(9.211, 21.277)>, <Segment(21.631, 52.934)>, <Segment(53.879, 58.621)>, <Segment(58.891, 69.185)>, <Segment(69.185, 99.644)>, <Segment(100.15, 137.967)>, <Segment(137.967, 141.798)>, <Segment(141.882, 162.52)>, <Segment(162.52, 168.325)>, <Segment(168.865, 193.772)>, <Segment(189.706, 189.942)>, <Segment(193.081, 195.933)>, <Segment(197.502, 198.379)>]\n",
      "HYP segments: [<Segment(1.51597, 3.03472)>, <Segment(3.03472, 7.69222)>, <Segment(9.21097, 21.2766)>, <Segment(21.631, 52.9341)>, <Segment(53.8791, 58.621)>, <Segment(58.891, 69.1847)>, <Segment(69.1847, 99.6441)>, <Segment(100.15, 137.967)>, <Segment(137.967, 141.798)>, <Segment(141.882, 162.52)>, <Segment(162.52, 168.325)>, <Segment(168.865, 193.773)>, <Segment(189.706, 189.942)>, <Segment(193.081, 195.933)>, <Segment(197.502, 198.38)>]\n",
      "jaccard error rate: {'speaker count': 5.0, 'speaker error': 0.0002422136575216637, 'jaccard error rate': 4.844273150433274e-05}\n",
      "Processing C:\\Users\\hazel\\speaker-diarization\\scripts\\speaker_diarization\\hf_voxconverse_data\\sample_2\\sample_2.wav...\n"
     ]
    },
    {
     "name": "stderr",
     "output_type": "stream",
     "text": [
      "\r",
      " 22%|████              | 2/9 [1:37:52<5:10:48, 2664.09s/it]"
     ]
    },
    {
     "name": "stdout",
     "output_type": "stream",
     "text": [
      "GT segments: [<Segment(0.031, 10.932)>, <Segment(11.962, 11.996)>, <Segment(11.995, 13.969)>, <Segment(13.97, 18.391)>, <Segment(18.526, 22.222)>, <Segment(19.066, 19.15)>, <Segment(19.15, 21.968)>, <Segment(22.34, 28.027)>, <Segment(28.027, 41.881)>, <Segment(41.948, 44.969)>, <Segment(44.969, 54.352)>, <Segment(54.352, 63.498)>, <Segment(63.498, 77.977)>, <Segment(77.977, 78.331)>, <Segment(78.331, 78.348)>, <Segment(78.348, 78.365)>, <Segment(78.365, 78.973)>, <Segment(78.972, 80.946)>, <Segment(80.947, 92.624)>, <Segment(88.928, 90.042)>, <Segment(90.042, 91.679)>, <Segment(91.679, 91.696)>, <Segment(92.692, 95.223)>, <Segment(95.341, 105.753)>, <Segment(104.892, 106.006)>, <Segment(105.753, 105.77)>, <Segment(105.77, 105.787)>, <Segment(106.006, 106.563)>, <Segment(106.563, 111.575)>, <Segment(111.963, 114.562)>, <Segment(114.916, 117.599)>, <Segment(117.903, 122.982)>, <Segment(122.982, 123.033)>, <Segment(123.033, 125.26)>, <Segment(125.26, 126.171)>, <Segment(126.408, 135.014)>, <Segment(135.217, 139.368)>, <Segment(139.368, 140.904)>, <Segment(141.612, 154.083)>, <Segment(154.218, 156.699)>, <Segment(157.458, 158.572)>, <Segment(158.572, 161.609)>, <Segment(161.643, 170.621)>, <Segment(171.278, 175.935)>, <Segment(176.965, 181.707)>, <Segment(181.707, 190.128)>, <Segment(190.432, 194.448)>, <Segment(194.448, 194.499)>, <Segment(194.498, 194.532)>, <Segment(194.735, 194.752)>, <Segment(194.752, 195.967)>, <Segment(195.967, 200.135)>, <Segment(200.337, 205.433)>, <Segment(205.535, 208.539)>, <Segment(209.062, 210.817)>, <Segment(210.817, 213.365)>, <Segment(213.449, 215.221)>, <Segment(215.221, 215.373)>, <Segment(215.373, 215.812)>, <Segment(215.812, 215.846)>, <Segment(215.845, 216.064)>, <Segment(216.065, 216.082)>, <Segment(216.082, 216.234)>, <Segment(216.233, 241.951)>, <Segment(242.828, 268.883)>, <Segment(268.883, 268.984)>, <Segment(269.153, 269.71)>, <Segment(269.778, 283.396)>, <Segment(283.598, 284.071)>, <Segment(284.442, 284.661)>, <Segment(284.965, 289.96)>, <Segment(290.163, 301.351)>, <Segment(301.807, 310.514)>, <Segment(310.683, 311.172)>, <Segment(311.83, 313.973)>, <Segment(314.058, 316.893)>, <Segment(317.298, 321.297)>, <Segment(321.449, 322.563)>, <Segment(323.238, 323.727)>, <Segment(324.284, 325.28)>, <Segment(325.634, 327.355)>, <Segment(327.997, 332.57)>, <Segment(332.57, 337.599)>, <Segment(334.477, 334.511)>, <Segment(334.51, 334.763)>, <Segment(335.877, 336.501)>, <Segment(337.261, 354.102)>, <Segment(340.805, 341.21)>, <Segment(354.895, 361.189)>, <Segment(361.392, 372.985)>, <Segment(370.842, 371.23)>, <Segment(372.783, 417.907)>, <Segment(394.045, 394.096)>, <Segment(394.383, 394.552)>, <Segment(394.552, 394.569)>, <Segment(394.568, 394.585)>, <Segment(400.222, 400.695)>, <Segment(409.402, 409.773)>, <Segment(417.063, 434.697)>, <Segment(424.673, 424.724)>, <Segment(435.136, 450.087)>, <Segment(450.374, 452.365)>, <Segment(452.838, 457.9)>, <Segment(458.39, 460.364)>, <Segment(460.955, 472.261)>, <Segment(472.598, 476.226)>, <Segment(476.564, 478.167)>, <Segment(478.488, 485.103)>, <Segment(485.575, 496.426)>, <Segment(496.426, 496.443)>, <Segment(496.73, 498.029)>, <Segment(498.029, 516.963)>, <Segment(514.904, 515.579)>, <Segment(516.963, 521.772)>, <Segment(522.228, 529.771)>, <Segment(530.007, 530.766)>, <Segment(531.138, 532.876)>, <Segment(533.213, 543.051)>, <Segment(542.883, 571.014)>, <Segment(546.983, 547.354)>, <Segment(547.81, 548.401)>, <Segment(551.033, 551.59)>, <Segment(563.858, 564.229)>, <Segment(564.23, 564.264)>, <Segment(565.546, 565.917)>, <Segment(570.743, 586.049)>, <Segment(585.087, 626.397)>, <Segment(587.129, 587.703)>, <Segment(626.397, 630.346)>, <Segment(630.852, 637.737)>, <Segment(635.847, 637.518)>, <Segment(637.737, 638.21)>, <Segment(638.21, 649.668)>, <Segment(638.227, 638.598)>, <Segment(640.505, 641.467)>, <Segment(643.306, 643.407)>, <Segment(645.702, 646.056)>, <Segment(646.057, 646.091)>, <Segment(650.663, 651.372)>, <Segment(651.372, 668.618)>, <Segment(669.226, 677.562)>, <Segment(678.17, 686.152)>, <Segment(686.523, 699.365)>, <Segment(699.618, 703.364)>, <Segment(703.229, 719.581)>, <Segment(719.581, 725.015)>, <Segment(720.847, 721.455)>, <Segment(725.015, 726.23)>, <Segment(726.162, 727.782)>, <Segment(727.782, 728.221)>, <Segment(727.799, 727.833)>]\n",
      "HYP segments: [<Segment(0.0309687, 10.9322)>, <Segment(11.9616, 11.9953)>, <Segment(11.9953, 13.9697)>, <Segment(13.9697, 18.391)>, <Segment(18.526, 22.2216)>, <Segment(19.066, 19.1503)>, <Segment(19.1503, 21.9685)>, <Segment(22.3397, 28.0266)>, <Segment(28.0266, 41.881)>, <Segment(41.9485, 44.9691)>, <Segment(44.9691, 54.3516)>, <Segment(54.3516, 63.4978)>, <Segment(63.4978, 77.9766)>, <Segment(77.9766, 78.331)>, <Segment(78.331, 78.3478)>, <Segment(78.3478, 78.3647)>, <Segment(78.3647, 78.9722)>, <Segment(78.9722, 80.9466)>, <Segment(80.9466, 92.6241)>, <Segment(88.9285, 90.0422)>, <Segment(90.0422, 91.6791)>, <Segment(91.6791, 91.696)>, <Segment(92.6916, 95.2228)>, <Segment(95.341, 105.753)>, <Segment(104.892, 106.006)>, <Segment(105.753, 105.77)>, <Segment(105.77, 105.787)>, <Segment(106.006, 106.563)>, <Segment(106.563, 111.575)>, <Segment(111.963, 114.562)>, <Segment(114.916, 117.599)>, <Segment(117.903, 122.982)>, <Segment(122.982, 123.033)>, <Segment(123.033, 125.26)>, <Segment(125.26, 126.172)>, <Segment(126.408, 135.014)>, <Segment(135.217, 139.368)>, <Segment(139.368, 140.903)>, <Segment(141.612, 154.083)>, <Segment(154.218, 156.698)>, <Segment(157.458, 158.572)>, <Segment(158.572, 161.609)>, <Segment(161.643, 170.62)>, <Segment(171.278, 175.936)>, <Segment(176.965, 181.707)>, <Segment(181.707, 190.128)>, <Segment(190.432, 194.448)>, <Segment(194.448, 194.498)>, <Segment(194.498, 194.532)>, <Segment(194.735, 194.752)>, <Segment(194.752, 195.967)>, <Segment(195.967, 200.135)>, <Segment(200.337, 205.433)>, <Segment(205.535, 208.538)>, <Segment(209.062, 210.817)>, <Segment(210.817, 213.365)>, <Segment(213.449, 215.221)>, <Segment(215.221, 215.373)>, <Segment(215.373, 215.812)>, <Segment(215.812, 215.845)>, <Segment(215.845, 216.065)>, <Segment(216.065, 216.082)>, <Segment(216.082, 216.233)>, <Segment(216.233, 241.951)>, <Segment(242.828, 268.883)>, <Segment(268.883, 268.985)>, <Segment(269.153, 269.71)>, <Segment(269.778, 283.396)>, <Segment(283.598, 284.071)>, <Segment(284.442, 284.662)>, <Segment(284.965, 289.96)>, <Segment(290.163, 301.351)>, <Segment(301.807, 310.514)>, <Segment(310.683, 311.172)>, <Segment(311.83, 313.973)>, <Segment(314.058, 316.893)>, <Segment(317.298, 321.297)>, <Segment(321.449, 322.563)>, <Segment(323.238, 323.727)>, <Segment(324.284, 325.28)>, <Segment(325.634, 327.355)>, <Segment(327.997, 332.57)>, <Segment(332.57, 337.598)>, <Segment(334.477, 334.51)>, <Segment(334.51, 334.763)>, <Segment(335.877, 336.502)>, <Segment(337.261, 354.102)>, <Segment(340.805, 341.21)>, <Segment(354.895, 361.19)>, <Segment(361.392, 372.985)>, <Segment(370.842, 371.23)>, <Segment(372.783, 417.907)>, <Segment(394.045, 394.096)>, <Segment(394.383, 394.552)>, <Segment(394.552, 394.568)>, <Segment(394.568, 394.585)>, <Segment(400.222, 400.694)>, <Segment(409.402, 409.773)>, <Segment(417.063, 434.697)>, <Segment(424.673, 424.724)>, <Segment(435.136, 450.087)>, <Segment(450.374, 452.365)>, <Segment(452.838, 457.9)>, <Segment(458.39, 460.364)>, <Segment(460.955, 472.261)>, <Segment(472.598, 476.227)>, <Segment(476.564, 478.167)>, <Segment(478.488, 485.103)>, <Segment(485.575, 496.426)>, <Segment(496.426, 496.443)>, <Segment(496.73, 498.029)>, <Segment(498.029, 516.963)>, <Segment(514.904, 515.579)>, <Segment(516.963, 521.772)>, <Segment(522.228, 529.771)>, <Segment(530.007, 530.767)>, <Segment(531.138, 532.876)>, <Segment(533.213, 543.052)>, <Segment(542.883, 571.013)>, <Segment(546.983, 547.355)>, <Segment(547.81, 548.401)>, <Segment(551.033, 551.59)>, <Segment(563.858, 564.23)>, <Segment(564.23, 564.263)>, <Segment(565.546, 565.917)>, <Segment(570.743, 586.049)>, <Segment(585.087, 626.397)>, <Segment(587.129, 587.703)>, <Segment(626.397, 630.346)>, <Segment(630.852, 637.737)>, <Segment(635.847, 637.518)>, <Segment(637.737, 638.21)>, <Segment(638.21, 649.668)>, <Segment(638.227, 638.598)>, <Segment(640.505, 641.467)>, <Segment(643.306, 643.407)>, <Segment(645.702, 646.057)>, <Segment(646.057, 646.09)>, <Segment(650.663, 651.372)>, <Segment(651.372, 668.618)>, <Segment(669.226, 677.562)>, <Segment(678.17, 686.152)>, <Segment(686.523, 699.365)>, <Segment(699.618, 703.364)>, <Segment(703.229, 719.581)>, <Segment(719.581, 725.015)>, <Segment(720.847, 721.454)>, <Segment(725.015, 726.23)>, <Segment(726.162, 727.782)>, <Segment(727.782, 728.221)>, <Segment(727.799, 727.833)>]\n",
      "diarization error rate: {'missed detection': 0.013812499999573902, 'confusion': 0.00849999999948281, 'false alarm': 0.032062500000398966, 'total': 684.2159999999997, 'correct': 684.1936875000007, 'diarization error rate': 7.947051808121368e-05}\n",
      "GT segments: [<Segment(0.031, 10.932)>, <Segment(11.962, 11.996)>, <Segment(11.995, 13.969)>, <Segment(13.97, 18.391)>, <Segment(18.526, 22.222)>, <Segment(19.066, 19.15)>, <Segment(19.15, 21.968)>, <Segment(22.34, 28.027)>, <Segment(28.027, 41.881)>, <Segment(41.948, 44.969)>, <Segment(44.969, 54.352)>, <Segment(54.352, 63.498)>, <Segment(63.498, 77.977)>, <Segment(77.977, 78.331)>, <Segment(78.331, 78.348)>, <Segment(78.348, 78.365)>, <Segment(78.365, 78.973)>, <Segment(78.972, 80.946)>, <Segment(80.947, 92.624)>, <Segment(88.928, 90.042)>, <Segment(90.042, 91.679)>, <Segment(91.679, 91.696)>, <Segment(92.692, 95.223)>, <Segment(95.341, 105.753)>, <Segment(104.892, 106.006)>, <Segment(105.753, 105.77)>, <Segment(105.77, 105.787)>, <Segment(106.006, 106.563)>, <Segment(106.563, 111.575)>, <Segment(111.963, 114.562)>, <Segment(114.916, 117.599)>, <Segment(117.903, 122.982)>, <Segment(122.982, 123.033)>, <Segment(123.033, 125.26)>, <Segment(125.26, 126.171)>, <Segment(126.408, 135.014)>, <Segment(135.217, 139.368)>, <Segment(139.368, 140.904)>, <Segment(141.612, 154.083)>, <Segment(154.218, 156.699)>, <Segment(157.458, 158.572)>, <Segment(158.572, 161.609)>, <Segment(161.643, 170.621)>, <Segment(171.278, 175.935)>, <Segment(176.965, 181.707)>, <Segment(181.707, 190.128)>, <Segment(190.432, 194.448)>, <Segment(194.448, 194.499)>, <Segment(194.498, 194.532)>, <Segment(194.735, 194.752)>, <Segment(194.752, 195.967)>, <Segment(195.967, 200.135)>, <Segment(200.337, 205.433)>, <Segment(205.535, 208.539)>, <Segment(209.062, 210.817)>, <Segment(210.817, 213.365)>, <Segment(213.449, 215.221)>, <Segment(215.221, 215.373)>, <Segment(215.373, 215.812)>, <Segment(215.812, 215.846)>, <Segment(215.845, 216.064)>, <Segment(216.065, 216.082)>, <Segment(216.082, 216.234)>, <Segment(216.233, 241.951)>, <Segment(242.828, 268.883)>, <Segment(268.883, 268.984)>, <Segment(269.153, 269.71)>, <Segment(269.778, 283.396)>, <Segment(283.598, 284.071)>, <Segment(284.442, 284.661)>, <Segment(284.965, 289.96)>, <Segment(290.163, 301.351)>, <Segment(301.807, 310.514)>, <Segment(310.683, 311.172)>, <Segment(311.83, 313.973)>, <Segment(314.058, 316.893)>, <Segment(317.298, 321.297)>, <Segment(321.449, 322.563)>, <Segment(323.238, 323.727)>, <Segment(324.284, 325.28)>, <Segment(325.634, 327.355)>, <Segment(327.997, 332.57)>, <Segment(332.57, 337.599)>, <Segment(334.477, 334.511)>, <Segment(334.51, 334.763)>, <Segment(335.877, 336.501)>, <Segment(337.261, 354.102)>, <Segment(340.805, 341.21)>, <Segment(354.895, 361.189)>, <Segment(361.392, 372.985)>, <Segment(370.842, 371.23)>, <Segment(372.783, 417.907)>, <Segment(394.045, 394.096)>, <Segment(394.383, 394.552)>, <Segment(394.552, 394.569)>, <Segment(394.568, 394.585)>, <Segment(400.222, 400.695)>, <Segment(409.402, 409.773)>, <Segment(417.063, 434.697)>, <Segment(424.673, 424.724)>, <Segment(435.136, 450.087)>, <Segment(450.374, 452.365)>, <Segment(452.838, 457.9)>, <Segment(458.39, 460.364)>, <Segment(460.955, 472.261)>, <Segment(472.598, 476.226)>, <Segment(476.564, 478.167)>, <Segment(478.488, 485.103)>, <Segment(485.575, 496.426)>, <Segment(496.426, 496.443)>, <Segment(496.73, 498.029)>, <Segment(498.029, 516.963)>, <Segment(514.904, 515.579)>, <Segment(516.963, 521.772)>, <Segment(522.228, 529.771)>, <Segment(530.007, 530.766)>, <Segment(531.138, 532.876)>, <Segment(533.213, 543.051)>, <Segment(542.883, 571.014)>, <Segment(546.983, 547.354)>, <Segment(547.81, 548.401)>, <Segment(551.033, 551.59)>, <Segment(563.858, 564.229)>, <Segment(564.23, 564.264)>, <Segment(565.546, 565.917)>, <Segment(570.743, 586.049)>, <Segment(585.087, 626.397)>, <Segment(587.129, 587.703)>, <Segment(626.397, 630.346)>, <Segment(630.852, 637.737)>, <Segment(635.847, 637.518)>, <Segment(637.737, 638.21)>, <Segment(638.21, 649.668)>, <Segment(638.227, 638.598)>, <Segment(640.505, 641.467)>, <Segment(643.306, 643.407)>, <Segment(645.702, 646.056)>, <Segment(646.057, 646.091)>, <Segment(650.663, 651.372)>, <Segment(651.372, 668.618)>, <Segment(669.226, 677.562)>, <Segment(678.17, 686.152)>, <Segment(686.523, 699.365)>, <Segment(699.618, 703.364)>, <Segment(703.229, 719.581)>, <Segment(719.581, 725.015)>, <Segment(720.847, 721.455)>, <Segment(725.015, 726.23)>, <Segment(726.162, 727.782)>, <Segment(727.782, 728.221)>, <Segment(727.799, 727.833)>]\n",
      "HYP segments: [<Segment(0.0309687, 10.9322)>, <Segment(11.9616, 11.9953)>, <Segment(11.9953, 13.9697)>, <Segment(13.9697, 18.391)>, <Segment(18.526, 22.2216)>, <Segment(19.066, 19.1503)>, <Segment(19.1503, 21.9685)>, <Segment(22.3397, 28.0266)>, <Segment(28.0266, 41.881)>, <Segment(41.9485, 44.9691)>, <Segment(44.9691, 54.3516)>, <Segment(54.3516, 63.4978)>, <Segment(63.4978, 77.9766)>, <Segment(77.9766, 78.331)>, <Segment(78.331, 78.3478)>, <Segment(78.3478, 78.3647)>, <Segment(78.3647, 78.9722)>, <Segment(78.9722, 80.9466)>, <Segment(80.9466, 92.6241)>, <Segment(88.9285, 90.0422)>, <Segment(90.0422, 91.6791)>, <Segment(91.6791, 91.696)>, <Segment(92.6916, 95.2228)>, <Segment(95.341, 105.753)>, <Segment(104.892, 106.006)>, <Segment(105.753, 105.77)>, <Segment(105.77, 105.787)>, <Segment(106.006, 106.563)>, <Segment(106.563, 111.575)>, <Segment(111.963, 114.562)>, <Segment(114.916, 117.599)>, <Segment(117.903, 122.982)>, <Segment(122.982, 123.033)>, <Segment(123.033, 125.26)>, <Segment(125.26, 126.172)>, <Segment(126.408, 135.014)>, <Segment(135.217, 139.368)>, <Segment(139.368, 140.903)>, <Segment(141.612, 154.083)>, <Segment(154.218, 156.698)>, <Segment(157.458, 158.572)>, <Segment(158.572, 161.609)>, <Segment(161.643, 170.62)>, <Segment(171.278, 175.936)>, <Segment(176.965, 181.707)>, <Segment(181.707, 190.128)>, <Segment(190.432, 194.448)>, <Segment(194.448, 194.498)>, <Segment(194.498, 194.532)>, <Segment(194.735, 194.752)>, <Segment(194.752, 195.967)>, <Segment(195.967, 200.135)>, <Segment(200.337, 205.433)>, <Segment(205.535, 208.538)>, <Segment(209.062, 210.817)>, <Segment(210.817, 213.365)>, <Segment(213.449, 215.221)>, <Segment(215.221, 215.373)>, <Segment(215.373, 215.812)>, <Segment(215.812, 215.845)>, <Segment(215.845, 216.065)>, <Segment(216.065, 216.082)>, <Segment(216.082, 216.233)>, <Segment(216.233, 241.951)>, <Segment(242.828, 268.883)>, <Segment(268.883, 268.985)>, <Segment(269.153, 269.71)>, <Segment(269.778, 283.396)>, <Segment(283.598, 284.071)>, <Segment(284.442, 284.662)>, <Segment(284.965, 289.96)>, <Segment(290.163, 301.351)>, <Segment(301.807, 310.514)>, <Segment(310.683, 311.172)>, <Segment(311.83, 313.973)>, <Segment(314.058, 316.893)>, <Segment(317.298, 321.297)>, <Segment(321.449, 322.563)>, <Segment(323.238, 323.727)>, <Segment(324.284, 325.28)>, <Segment(325.634, 327.355)>, <Segment(327.997, 332.57)>, <Segment(332.57, 337.598)>, <Segment(334.477, 334.51)>, <Segment(334.51, 334.763)>, <Segment(335.877, 336.502)>, <Segment(337.261, 354.102)>, <Segment(340.805, 341.21)>, <Segment(354.895, 361.19)>, <Segment(361.392, 372.985)>, <Segment(370.842, 371.23)>, <Segment(372.783, 417.907)>, <Segment(394.045, 394.096)>, <Segment(394.383, 394.552)>, <Segment(394.552, 394.568)>, <Segment(394.568, 394.585)>, <Segment(400.222, 400.694)>, <Segment(409.402, 409.773)>, <Segment(417.063, 434.697)>, <Segment(424.673, 424.724)>, <Segment(435.136, 450.087)>, <Segment(450.374, 452.365)>, <Segment(452.838, 457.9)>, <Segment(458.39, 460.364)>, <Segment(460.955, 472.261)>, <Segment(472.598, 476.227)>, <Segment(476.564, 478.167)>, <Segment(478.488, 485.103)>, <Segment(485.575, 496.426)>, <Segment(496.426, 496.443)>, <Segment(496.73, 498.029)>, <Segment(498.029, 516.963)>, <Segment(514.904, 515.579)>, <Segment(516.963, 521.772)>, <Segment(522.228, 529.771)>, <Segment(530.007, 530.767)>, <Segment(531.138, 532.876)>, <Segment(533.213, 543.052)>, <Segment(542.883, 571.013)>, <Segment(546.983, 547.355)>, <Segment(547.81, 548.401)>, <Segment(551.033, 551.59)>, <Segment(563.858, 564.23)>, <Segment(564.23, 564.263)>, <Segment(565.546, 565.917)>, <Segment(570.743, 586.049)>, <Segment(585.087, 626.397)>, <Segment(587.129, 587.703)>, <Segment(626.397, 630.346)>, <Segment(630.852, 637.737)>, <Segment(635.847, 637.518)>, <Segment(637.737, 638.21)>, <Segment(638.21, 649.668)>, <Segment(638.227, 638.598)>, <Segment(640.505, 641.467)>, <Segment(643.306, 643.407)>, <Segment(645.702, 646.057)>, <Segment(646.057, 646.09)>, <Segment(650.663, 651.372)>, <Segment(651.372, 668.618)>, <Segment(669.226, 677.562)>, <Segment(678.17, 686.152)>, <Segment(686.523, 699.365)>, <Segment(699.618, 703.364)>, <Segment(703.229, 719.581)>, <Segment(719.581, 725.015)>, <Segment(720.847, 721.454)>, <Segment(725.015, 726.23)>, <Segment(726.162, 727.782)>, <Segment(727.782, 728.221)>, <Segment(727.799, 727.833)>]\n",
      "jaccard error rate: {'speaker count': 10.0, 'speaker error': 0.0016554061545481368, 'jaccard error rate': 0.00016554061545481368}\n",
      "Processing C:\\Users\\hazel\\speaker-diarization\\scripts\\speaker_diarization\\hf_voxconverse_data\\sample_3\\sample_3.wav...\n"
     ]
    },
    {
     "name": "stderr",
     "output_type": "stream",
     "text": [
      "\r",
      " 33%|██████            | 3/9 [1:38:24<2:26:12, 1462.07s/it]"
     ]
    },
    {
     "name": "stdout",
     "output_type": "stream",
     "text": [
      "GT segments: [<Segment(0.031, 27.976)>]\n",
      "HYP segments: [<Segment(0.0309687, 27.976)>]\n",
      "diarization error rate: {'missed detection': 3.1249999999261036e-05, 'confusion': 0.0, 'false alarm': 3.125000000000003e-05, 'total': 27.945, 'correct': 27.94496875, 'diarization error rate': 2.2365360529347314e-06}\n",
      "GT segments: [<Segment(0.031, 27.976)>]\n",
      "HYP segments: [<Segment(0.0309687, 27.976)>]\n",
      "jaccard error rate: {'speaker count': 1.0, 'speaker error': 2.2365335518643255e-06, 'jaccard error rate': 2.2365335518643255e-06}\n",
      "Processing C:\\Users\\hazel\\speaker-diarization\\scripts\\speaker_diarization\\hf_voxconverse_data\\sample_4\\sample_4.wav...\n"
     ]
    },
    {
     "name": "stderr",
     "output_type": "stream",
     "text": [
      "\r",
      " 44%|████████▍          | 4/9 [1:39:24<1:15:42, 908.50s/it]"
     ]
    },
    {
     "name": "stdout",
     "output_type": "stream",
     "text": [
      "GT segments: [<Segment(0.031, 2.714)>, <Segment(3.423, 4.722)>, <Segment(5.245, 6.544)>, <Segment(7.355, 9.836)>, <Segment(10.797, 19.049)>, <Segment(20.551, 24.652)>, <Segment(30.794, 30.811)>, <Segment(30.811, 31.081)>, <Segment(32.65, 43.534)>]\n",
      "HYP segments: [<Segment(0.0309687, 2.71409)>, <Segment(3.42284, 4.72222)>, <Segment(5.24534, 6.54472)>, <Segment(7.35472, 9.83534)>, <Segment(10.7972, 19.0491)>, <Segment(20.551, 24.6516)>, <Segment(30.7941, 30.811)>, <Segment(30.811, 31.081)>, <Segment(32.6503, 43.5347)>]\n",
      "diarization error rate: {'missed detection': 0.0020937500000064446, 'confusion': 3.1249999999261036e-05, 'false alarm': 0.002343750000002604, 'total': 31.285999999999998, 'correct': 31.28387499999999, 'diarization error rate': 0.00014283545355776736}\n",
      "GT segments: [<Segment(0.031, 2.714)>, <Segment(3.423, 4.722)>, <Segment(5.245, 6.544)>, <Segment(7.355, 9.836)>, <Segment(10.797, 19.049)>, <Segment(20.551, 24.652)>, <Segment(30.794, 30.811)>, <Segment(30.811, 31.081)>, <Segment(32.65, 43.534)>]\n",
      "HYP segments: [<Segment(0.0309687, 2.71409)>, <Segment(3.42284, 4.72222)>, <Segment(5.24534, 6.54472)>, <Segment(7.35472, 9.83534)>, <Segment(10.7972, 19.0491)>, <Segment(20.551, 24.6516)>, <Segment(30.7941, 30.811)>, <Segment(30.811, 31.081)>, <Segment(32.6503, 43.5347)>]\n",
      "jaccard error rate: {'speaker count': 3.0, 'speaker error': 0.0004966986286576885, 'jaccard error rate': 0.00016556620955256282}\n",
      "Processing C:\\Users\\hazel\\speaker-diarization\\scripts\\speaker_diarization\\hf_voxconverse_data\\sample_5\\sample_5.wav...\n"
     ]
    },
    {
     "name": "stderr",
     "output_type": "stream",
     "text": [
      "\r",
      " 56%|██████████        | 5/9 [2:03:41<1:13:44, 1106.25s/it]"
     ]
    },
    {
     "name": "stdout",
     "output_type": "stream",
     "text": [
      "GT segments: [<Segment(0.419, 4.385)>, <Segment(8.975, 58.368)>, <Segment(58.79, 60.967)>, <Segment(60.967, 60.984)>, <Segment(61, 113.701)>, <Segment(114.089, 120.434)>]\n",
      "HYP segments: [<Segment(0.419094, 4.38472)>, <Segment(8.97472, 58.3678)>, <Segment(58.7897, 60.9666)>, <Segment(60.9666, 60.9835)>, <Segment(61.0003, 113.701)>, <Segment(114.089, 120.434)>]\n",
      "diarization error rate: {'missed detection': 0.0015312499999998175, 'confusion': 0.0004062499999974989, 'false alarm': 0.0006562499999969162, 'total': 114.599, 'correct': 114.5970625, 'diarization error rate': 2.2633269051163034e-05}\n",
      "GT segments: [<Segment(0.419, 4.385)>, <Segment(8.975, 58.368)>, <Segment(58.79, 60.967)>, <Segment(60.967, 60.984)>, <Segment(61, 113.701)>, <Segment(114.089, 120.434)>]\n",
      "HYP segments: [<Segment(0.419094, 4.38472)>, <Segment(8.97472, 58.3678)>, <Segment(58.7897, 60.9666)>, <Segment(60.9666, 60.9835)>, <Segment(61.0003, 113.701)>, <Segment(114.089, 120.434)>]\n",
      "jaccard error rate: {'speaker count': 2.0, 'speaker error': 5.240562918661109e-05, 'jaccard error rate': 2.6202814593305543e-05}\n",
      "Processing C:\\Users\\hazel\\speaker-diarization\\scripts\\speaker_diarization\\hf_voxconverse_data\\sample_6\\sample_6.wav...\n"
     ]
    },
    {
     "name": "stderr",
     "output_type": "stream",
     "text": [
      "\r",
      " 67%|██████████████       | 6/9 [2:09:16<42:12, 844.02s/it]"
     ]
    },
    {
     "name": "stdout",
     "output_type": "stream",
     "text": [
      "GT segments: [<Segment(0.031, 35.975)>, <Segment(37.257, 42.185)>, <Segment(42.488, 44.699)>, <Segment(45.543, 49.188)>, <Segment(45.745, 46.572)>, <Segment(46.572, 46.623)>, <Segment(46.623, 46.724)>, <Segment(48.125, 62.013)>, <Segment(64.004, 77.69)>, <Segment(77.96, 126.762)>, <Segment(126.425, 155.045)>, <Segment(155.247, 156.243)>, <Segment(156.243, 161.592)>, <Segment(161.828, 180.188)>, <Segment(180.897, 186.398)>, <Segment(187.192, 197.384)>, <Segment(198.211, 202.413)>, <Segment(203.088, 205.299)>, <Segment(205.636, 214.934)>]\n",
      "HYP segments: [<Segment(0.0309687, 35.9747)>, <Segment(37.2572, 42.1847)>, <Segment(42.4885, 44.6991)>, <Segment(45.5428, 49.1878)>, <Segment(45.7453, 46.5722)>, <Segment(46.5722, 46.6228)>, <Segment(46.6228, 46.7241)>, <Segment(48.1247, 62.0128)>, <Segment(64.0041, 77.6897)>, <Segment(77.9597, 126.762)>, <Segment(126.425, 155.045)>, <Segment(155.247, 156.243)>, <Segment(156.243, 161.592)>, <Segment(161.828, 180.188)>, <Segment(180.897, 186.398)>, <Segment(187.192, 197.384)>, <Segment(198.211, 202.413)>, <Segment(203.088, 205.298)>, <Segment(205.636, 214.934)>]\n",
      "diarization error rate: {'missed detection': 0.0036562499999703846, 'confusion': 0.0001562499999749889, 'false alarm': 0.0034062499999841407, 'total': 204.05399999999992, 'correct': 204.0501875, 'diarization error rate': 3.537666500009565e-05}\n",
      "GT segments: [<Segment(0.031, 35.975)>, <Segment(37.257, 42.185)>, <Segment(42.488, 44.699)>, <Segment(45.543, 49.188)>, <Segment(45.745, 46.572)>, <Segment(46.572, 46.623)>, <Segment(46.623, 46.724)>, <Segment(48.125, 62.013)>, <Segment(64.004, 77.69)>, <Segment(77.96, 126.762)>, <Segment(126.425, 155.045)>, <Segment(155.247, 156.243)>, <Segment(156.243, 161.592)>, <Segment(161.828, 180.188)>, <Segment(180.897, 186.398)>, <Segment(187.192, 197.384)>, <Segment(198.211, 202.413)>, <Segment(203.088, 205.299)>, <Segment(205.636, 214.934)>]\n",
      "HYP segments: [<Segment(0.0309687, 35.9747)>, <Segment(37.2572, 42.1847)>, <Segment(42.4885, 44.6991)>, <Segment(45.5428, 49.1878)>, <Segment(45.7453, 46.5722)>, <Segment(46.5722, 46.6228)>, <Segment(46.6228, 46.7241)>, <Segment(48.1247, 62.0128)>, <Segment(64.0041, 77.6897)>, <Segment(77.9597, 126.762)>, <Segment(126.425, 155.045)>, <Segment(155.247, 156.243)>, <Segment(156.243, 161.592)>, <Segment(161.828, 180.188)>, <Segment(180.897, 186.398)>, <Segment(187.192, 197.384)>, <Segment(198.211, 202.413)>, <Segment(203.088, 205.298)>, <Segment(205.636, 214.934)>]\n",
      "jaccard error rate: {'speaker count': 5.0, 'speaker error': 0.00026963569392983016, 'jaccard error rate': 5.392713878596603e-05}\n",
      "Processing C:\\Users\\hazel\\speaker-diarization\\scripts\\speaker_diarization\\hf_voxconverse_data\\sample_7\\sample_7.wav...\n"
     ]
    },
    {
     "name": "stderr",
     "output_type": "stream",
     "text": [
      "\r",
      " 78%|████████████████▎    | 7/9 [2:17:25<24:16, 728.05s/it]"
     ]
    },
    {
     "name": "stdout",
     "output_type": "stream",
     "text": [
      "GT segments: [<Segment(1.465, 26.221)>, <Segment(26.221, 111.119)>, <Segment(101.77, 102.124)>, <Segment(111.119, 114.528)>, <Segment(115.793, 155.905)>, <Segment(156.142, 208.708)>, <Segment(208.758, 254.32)>, <Segment(254.32, 266.335)>, <Segment(266.96, 281.877)>, <Segment(282.097, 297.335)>, <Segment(295.934, 308.81)>, <Segment(305.333, 306.362)>, <Segment(308.928, 310.885)>]\n",
      "HYP segments: [<Segment(1.46534, 26.221)>, <Segment(26.221, 111.119)>, <Segment(101.77, 102.125)>, <Segment(111.119, 114.528)>, <Segment(115.793, 155.905)>, <Segment(156.142, 208.707)>, <Segment(208.758, 254.32)>, <Segment(254.32, 266.335)>, <Segment(266.96, 281.877)>, <Segment(282.097, 297.335)>, <Segment(295.934, 308.81)>, <Segment(305.333, 306.363)>, <Segment(308.928, 310.885)>]\n",
      "diarization error rate: {'missed detection': 0.0020312499999886047, 'confusion': 0.00046875000001733724, 'false alarm': 0.0042187499999783995, 'total': 304.121, 'correct': 304.1185, 'diarization error rate': 2.209235797588572e-05}\n",
      "GT segments: [<Segment(1.465, 26.221)>, <Segment(26.221, 111.119)>, <Segment(101.77, 102.124)>, <Segment(111.119, 114.528)>, <Segment(115.793, 155.905)>, <Segment(156.142, 208.708)>, <Segment(208.758, 254.32)>, <Segment(254.32, 266.335)>, <Segment(266.96, 281.877)>, <Segment(282.097, 297.335)>, <Segment(295.934, 308.81)>, <Segment(305.333, 306.362)>, <Segment(308.928, 310.885)>]\n",
      "HYP segments: [<Segment(1.46534, 26.221)>, <Segment(26.221, 111.119)>, <Segment(101.77, 102.125)>, <Segment(111.119, 114.528)>, <Segment(115.793, 155.905)>, <Segment(156.142, 208.707)>, <Segment(208.758, 254.32)>, <Segment(254.32, 266.335)>, <Segment(266.96, 281.877)>, <Segment(282.097, 297.335)>, <Segment(295.934, 308.81)>, <Segment(305.333, 306.363)>, <Segment(308.928, 310.885)>]\n",
      "jaccard error rate: {'speaker count': 6.0, 'speaker error': 0.000187760252118705, 'jaccard error rate': 3.12933753531175e-05}\n",
      "Processing C:\\Users\\hazel\\speaker-diarization\\scripts\\speaker_diarization\\hf_voxconverse_data\\sample_8\\sample_8.wav...\n"
     ]
    },
    {
     "name": "stderr",
     "output_type": "stream",
     "text": [
      "\r",
      " 89%|█████████████████▊  | 8/9 [3:40:41<34:46, 2086.69s/it]"
     ]
    },
    {
     "name": "stdout",
     "output_type": "stream",
     "text": [
      "GT segments: [<Segment(0.031, 42.033)>, <Segment(42.033, 44.902)>, <Segment(42.218, 42.235)>, <Segment(46.235, 51.618)>, <Segment(55.28, 55.702)>, <Segment(56.275, 69.978)>, <Segment(60.022, 60.495)>, <Segment(69.978, 71.564)>, <Segment(72.526, 84.946)>, <Segment(84.946, 89.603)>, <Segment(85.148, 85.57)>, <Segment(90.869, 91.375)>, <Segment(92.135, 101.855)>, <Segment(99.391, 99.948)>, <Segment(102.665, 103.222)>, <Segment(103.694, 109.178)>, <Segment(107.356, 121.092)>, <Segment(121.48, 124.231)>, <Segment(122.965, 141.376)>, <Segment(124.568, 125.429)>, <Segment(125.868, 127.049)>, <Segment(130.424, 135.014)>, <Segment(136.533, 137.36)>, <Segment(141.983, 144.97)>, <Segment(144.97, 153.627)>, <Segment(145.493, 145.78)>, <Segment(151.535, 151.738)>, <Segment(153.627, 182.264)>, <Segment(153.695, 153.897)>, <Segment(182.264, 195.578)>, <Segment(186.179, 188.693)>, <Segment(192.642, 199.122)>, <Segment(197.873, 199.24)>, <Segment(199.24, 199.645)>, <Segment(199.645, 203.307)>, <Segment(199.713, 200.472)>, <Segment(201.907, 202.768)>, <Segment(203.307, 223.068)>, <Segment(223.068, 229.548)>, <Segment(229.548, 236.45)>, <Segment(235.505, 236.467)>, <Segment(236.467, 236.653)>, <Segment(236.855, 240.568)>, <Segment(237.513, 237.631)>, <Segment(238.745, 239.825)>, <Segment(240.23, 247.149)>, <Segment(241.327, 242.306)>, <Segment(247.503, 264.007)>, <Segment(264.445, 296.136)>, <Segment(281.067, 282.08)>, <Segment(282.552, 282.974)>, <Segment(283.126, 284.341)>, <Segment(297.537, 299.714)>]\n",
      "HYP segments: [<Segment(0.0309687, 42.0328)>, <Segment(42.0328, 44.9016)>, <Segment(42.2185, 42.2353)>, <Segment(46.2347, 51.6178)>, <Segment(55.2797, 55.7016)>, <Segment(56.2753, 69.9778)>, <Segment(60.0216, 60.4941)>, <Segment(69.9778, 71.5641)>, <Segment(72.526, 84.946)>, <Segment(84.946, 89.6035)>, <Segment(85.1485, 85.5703)>, <Segment(90.8691, 91.3753)>, <Segment(92.1347, 101.855)>, <Segment(99.391, 99.9478)>, <Segment(102.665, 103.222)>, <Segment(103.694, 109.178)>, <Segment(107.356, 121.092)>, <Segment(121.48, 124.231)>, <Segment(122.965, 141.376)>, <Segment(124.568, 125.429)>, <Segment(125.868, 127.049)>, <Segment(130.424, 135.014)>, <Segment(136.533, 137.36)>, <Segment(141.983, 144.97)>, <Segment(144.97, 153.627)>, <Segment(145.493, 145.78)>, <Segment(151.535, 151.737)>, <Segment(153.627, 182.264)>, <Segment(153.695, 153.897)>, <Segment(182.264, 195.578)>, <Segment(186.179, 188.693)>, <Segment(192.642, 199.122)>, <Segment(197.873, 199.24)>, <Segment(199.24, 199.645)>, <Segment(199.645, 203.307)>, <Segment(199.713, 200.472)>, <Segment(201.907, 202.767)>, <Segment(203.307, 223.068)>, <Segment(223.068, 229.548)>, <Segment(229.548, 236.45)>, <Segment(235.505, 236.467)>, <Segment(236.467, 236.652)>, <Segment(236.855, 240.567)>, <Segment(237.513, 237.631)>, <Segment(238.745, 239.825)>, <Segment(240.23, 247.148)>, <Segment(241.327, 242.305)>, <Segment(247.503, 264.007)>, <Segment(264.445, 296.137)>, <Segment(281.067, 282.08)>, <Segment(282.552, 282.974)>, <Segment(283.126, 284.341)>, <Segment(297.537, 299.714)>]\n",
      "diarization error rate: {'missed detection': 0.005312500000059117, 'confusion': 0.0026249999999024, 'false alarm': 0.010249999999900467, 'total': 259.3179999999999, 'correct': 259.31006249999996, 'diarization error rate': 7.013589492384635e-05}\n",
      "GT segments: [<Segment(0.031, 42.033)>, <Segment(42.033, 44.902)>, <Segment(42.218, 42.235)>, <Segment(46.235, 51.618)>, <Segment(55.28, 55.702)>, <Segment(56.275, 69.978)>, <Segment(60.022, 60.495)>, <Segment(69.978, 71.564)>, <Segment(72.526, 84.946)>, <Segment(84.946, 89.603)>, <Segment(85.148, 85.57)>, <Segment(90.869, 91.375)>, <Segment(92.135, 101.855)>, <Segment(99.391, 99.948)>, <Segment(102.665, 103.222)>, <Segment(103.694, 109.178)>, <Segment(107.356, 121.092)>, <Segment(121.48, 124.231)>, <Segment(122.965, 141.376)>, <Segment(124.568, 125.429)>, <Segment(125.868, 127.049)>, <Segment(130.424, 135.014)>, <Segment(136.533, 137.36)>, <Segment(141.983, 144.97)>, <Segment(144.97, 153.627)>, <Segment(145.493, 145.78)>, <Segment(151.535, 151.738)>, <Segment(153.627, 182.264)>, <Segment(153.695, 153.897)>, <Segment(182.264, 195.578)>, <Segment(186.179, 188.693)>, <Segment(192.642, 199.122)>, <Segment(197.873, 199.24)>, <Segment(199.24, 199.645)>, <Segment(199.645, 203.307)>, <Segment(199.713, 200.472)>, <Segment(201.907, 202.768)>, <Segment(203.307, 223.068)>, <Segment(223.068, 229.548)>, <Segment(229.548, 236.45)>, <Segment(235.505, 236.467)>, <Segment(236.467, 236.653)>, <Segment(236.855, 240.568)>, <Segment(237.513, 237.631)>, <Segment(238.745, 239.825)>, <Segment(240.23, 247.149)>, <Segment(241.327, 242.306)>, <Segment(247.503, 264.007)>, <Segment(264.445, 296.136)>, <Segment(281.067, 282.08)>, <Segment(282.552, 282.974)>, <Segment(283.126, 284.341)>, <Segment(297.537, 299.714)>]\n",
      "HYP segments: [<Segment(0.0309687, 42.0328)>, <Segment(42.0328, 44.9016)>, <Segment(42.2185, 42.2353)>, <Segment(46.2347, 51.6178)>, <Segment(55.2797, 55.7016)>, <Segment(56.2753, 69.9778)>, <Segment(60.0216, 60.4941)>, <Segment(69.9778, 71.5641)>, <Segment(72.526, 84.946)>, <Segment(84.946, 89.6035)>, <Segment(85.1485, 85.5703)>, <Segment(90.8691, 91.3753)>, <Segment(92.1347, 101.855)>, <Segment(99.391, 99.9478)>, <Segment(102.665, 103.222)>, <Segment(103.694, 109.178)>, <Segment(107.356, 121.092)>, <Segment(121.48, 124.231)>, <Segment(122.965, 141.376)>, <Segment(124.568, 125.429)>, <Segment(125.868, 127.049)>, <Segment(130.424, 135.014)>, <Segment(136.533, 137.36)>, <Segment(141.983, 144.97)>, <Segment(144.97, 153.627)>, <Segment(145.493, 145.78)>, <Segment(151.535, 151.737)>, <Segment(153.627, 182.264)>, <Segment(153.695, 153.897)>, <Segment(182.264, 195.578)>, <Segment(186.179, 188.693)>, <Segment(192.642, 199.122)>, <Segment(197.873, 199.24)>, <Segment(199.24, 199.645)>, <Segment(199.645, 203.307)>, <Segment(199.713, 200.472)>, <Segment(201.907, 202.767)>, <Segment(203.307, 223.068)>, <Segment(223.068, 229.548)>, <Segment(229.548, 236.45)>, <Segment(235.505, 236.467)>, <Segment(236.467, 236.652)>, <Segment(236.855, 240.567)>, <Segment(237.513, 237.631)>, <Segment(238.745, 239.825)>, <Segment(240.23, 247.148)>, <Segment(241.327, 242.305)>, <Segment(247.503, 264.007)>, <Segment(264.445, 296.137)>, <Segment(281.067, 282.08)>, <Segment(282.552, 282.974)>, <Segment(283.126, 284.341)>, <Segment(297.537, 299.714)>]\n",
      "jaccard error rate: {'speaker count': 2.0, 'speaker error': 0.00016133154721005468, 'jaccard error rate': 8.066577360502734e-05}\n",
      "Processing C:\\Users\\hazel\\speaker-diarization\\scripts\\speaker_diarization\\hf_voxconverse_data\\sample_9\\sample_9.wav...\n"
     ]
    },
    {
     "name": "stderr",
     "output_type": "stream",
     "text": [
      "100%|████████████████████| 9/9 [3:51:02<00:00, 1540.28s/it]"
     ]
    },
    {
     "name": "stdout",
     "output_type": "stream",
     "text": [
      "GT segments: [<Segment(0.031, 24.584)>, <Segment(24.753, 39.704)>, <Segment(41.206, 46.319)>, <Segment(46.319, 46.876)>, <Segment(46.876, 54.402)>, <Segment(55.297, 115.44)>, <Segment(115.439, 119.691)>, <Segment(120.063, 124.585)>, <Segment(125.007, 135.706)>, <Segment(137.056, 190.128)>, <Segment(190.229, 195.595)>, <Segment(196.895, 237.159)>, <Segment(237.344, 255.316)>, <Segment(256.852, 285.27)>, <Segment(285.522, 312.033)>, <Segment(313.096, 359.215)>, <Segment(359.215, 361.814)>, <Segment(362.287, 402.433)>, <Segment(402.432, 406.246)>]\n",
      "HYP segments: [<Segment(0.0309687, 24.5841)>, <Segment(24.7528, 39.7041)>, <Segment(41.206, 46.3191)>, <Segment(46.3191, 46.876)>, <Segment(46.876, 54.4022)>, <Segment(55.2966, 115.439)>, <Segment(115.439, 119.692)>, <Segment(120.063, 124.585)>, <Segment(125.007, 135.706)>, <Segment(137.056, 190.128)>, <Segment(190.229, 195.595)>, <Segment(196.895, 237.158)>, <Segment(237.344, 255.316)>, <Segment(256.852, 285.269)>, <Segment(285.522, 312.033)>, <Segment(313.096, 359.215)>, <Segment(359.215, 361.814)>, <Segment(362.287, 402.432)>, <Segment(402.432, 406.246)>]\n",
      "diarization error rate: {'missed detection': 0.002468749999977149, 'confusion': 0.0004687500000031264, 'false alarm': 0.0037187500000193836, 'total': 396.5930000000001, 'correct': 396.59006250000004, 'diarization error rate': 1.6783579135283924e-05}\n",
      "GT segments: [<Segment(0.031, 24.584)>, <Segment(24.753, 39.704)>, <Segment(41.206, 46.319)>, <Segment(46.319, 46.876)>, <Segment(46.876, 54.402)>, <Segment(55.297, 115.44)>, <Segment(115.439, 119.691)>, <Segment(120.063, 124.585)>, <Segment(125.007, 135.706)>, <Segment(137.056, 190.128)>, <Segment(190.229, 195.595)>, <Segment(196.895, 237.159)>, <Segment(237.344, 255.316)>, <Segment(256.852, 285.27)>, <Segment(285.522, 312.033)>, <Segment(313.096, 359.215)>, <Segment(359.215, 361.814)>, <Segment(362.287, 402.433)>, <Segment(402.432, 406.246)>]\n",
      "HYP segments: [<Segment(0.0309687, 24.5841)>, <Segment(24.7528, 39.7041)>, <Segment(41.206, 46.3191)>, <Segment(46.3191, 46.876)>, <Segment(46.876, 54.4022)>, <Segment(55.2966, 115.439)>, <Segment(115.439, 119.692)>, <Segment(120.063, 124.585)>, <Segment(125.007, 135.706)>, <Segment(137.056, 190.128)>, <Segment(190.229, 195.595)>, <Segment(196.895, 237.158)>, <Segment(237.344, 255.316)>, <Segment(256.852, 285.269)>, <Segment(285.522, 312.033)>, <Segment(313.096, 359.215)>, <Segment(359.215, 361.814)>, <Segment(362.287, 402.432)>, <Segment(402.432, 406.246)>]\n",
      "jaccard error rate: {'speaker count': 2.0, 'speaker error': 3.941643851948413e-05, 'jaccard error rate': 1.9708219259742065e-05}\n"
     ]
    },
    {
     "name": "stderr",
     "output_type": "stream",
     "text": [
      "\n"
     ]
    }
   ],
   "source": [
    "\n",
    "DEFAULT_CACHE_FOLDER = os.path.join(os.getcwd(), \"cache\")\n",
    "RESULTS_FOLDER = os.path.join(os.getcwd(), \"results\")\n",
    "\n",
    "dataset_kwargs = {\n",
    "        \"dataset\": Datasets.VOX_CONVERSE,\n",
    "        \"data_folder\": \"hf_voxconverse_data\"\n",
    "    }\n",
    "\n",
    "engine_kwargs = {\n",
    "        \"engine\": Engines.PYANNOTE,\n",
    "        \"auth_token\": read_token\n",
    "    }\n",
    "\n",
    "process_kwargs = {\n",
    "        \"verbose\": \"True\"\n",
    "    }\n",
    "\n",
    "dataset = Dataset.create(**dataset_kwargs)\n",
    "print(f\"Dataset: {dataset}\")\n",
    "\n",
    "engine = Engine.create(**engine_kwargs)\n",
    "print(f\"Engine: {engine}\")\n",
    "\n",
    "_process_accuracy(engine, dataset, **process_kwargs)"
   ]
  },
  {
   "cell_type": "code",
   "execution_count": null,
   "id": "25eff3b4",
   "metadata": {},
   "outputs": [],
   "source": []
  }
 ],
 "metadata": {
  "kernelspec": {
   "display_name": "Python 3 (ipykernel)",
   "language": "python",
   "name": "python3"
  },
  "language_info": {
   "codemirror_mode": {
    "name": "ipython",
    "version": 3
   },
   "file_extension": ".py",
   "mimetype": "text/x-python",
   "name": "python",
   "nbconvert_exporter": "python",
   "pygments_lexer": "ipython3",
   "version": "3.11.5"
  }
 },
 "nbformat": 4,
 "nbformat_minor": 5
}
