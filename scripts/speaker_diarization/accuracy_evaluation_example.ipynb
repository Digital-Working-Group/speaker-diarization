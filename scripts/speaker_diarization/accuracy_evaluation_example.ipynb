{
 "cells": [
  {
   "cell_type": "markdown",
   "id": "48b11860",
   "metadata": {},
   "source": [
    "# Accuracy Evaluation"
   ]
  },
  {
   "cell_type": "markdown",
   "id": "d35b9df6",
   "metadata": {},
   "source": [
    "This notebook goes through an example of evaluating the accuracy of a speaker diarization tool.\n",
    "\n",
    "The `process_accuracy()` function evaluates predictions using the Diarization Error rate, and the Jaccard Error rate "
   ]
  },
  {
   "cell_type": "markdown",
   "id": "6717786a",
   "metadata": {},
   "source": [
    "## Accuracy Evaluation Example"
   ]
  },
  {
   "cell_type": "markdown",
   "id": "da4f2736",
   "metadata": {},
   "source": [
    "This script uses the VoxConverse v0.3 dataset via Hugging Face, which contains a collection of multi-speaker audio .wav files and labeled RTTM files for comparison.\n",
    "\n",
    "For instructions on how to get set up with this dataset, please view the [calculate performance](https://github.com/Digital-Working-Group/speaker-diarization/blob/main/README.md#calculate-performance-metrics) section of the README"
   ]
  },
  {
   "cell_type": "code",
   "execution_count": 6,
   "id": "d4f9bf3d",
   "metadata": {},
   "outputs": [],
   "source": [
    "import json\n",
    "from pyannote.metrics.diarization import DiarizationErrorRate, JaccardErrorRate\n",
    "from tqdm import tqdm\n",
    "from dataset import *\n",
    "from engine import *\n",
    "from util import load_rttm, rttm_to_annotation\n",
    "from read_token import read_token\n",
    "from speaker_diarization_evaluate import _process_accuracy\n",
    "import os"
   ]
  },
  {
   "cell_type": "code",
   "execution_count": 13,
   "id": "293f1258",
   "metadata": {},
   "outputs": [
    {
     "name": "stdout",
     "output_type": "stream",
     "text": [
      "Dataset: VoxConverse\n"
     ]
    },
    {
     "name": "stderr",
     "output_type": "stream",
     "text": [
      "C:\\Users\\hazel\\anaconda3\\Lib\\inspect.py:992: UserWarning: Module 'speechbrain.pretrained' was deprecated, redirecting to 'speechbrain.inference'. Please update your script. This is a change from SpeechBrain 1.0. See: https://github.com/speechbrain/speechbrain/releases/tag/v1.0.0\n",
      "  if ismodule(module) and hasattr(module, '__file__'):\n"
     ]
    },
    {
     "name": "stdout",
     "output_type": "stream",
     "text": [
      "Engine: PYANNOTE\n"
     ]
    },
    {
     "name": "stderr",
     "output_type": "stream",
     "text": [
      "\r",
      "  0%|                                                                                           | 0/10 [00:00<?, ?it/s]"
     ]
    },
    {
     "name": "stdout",
     "output_type": "stream",
     "text": [
      "Processing C:\\Users\\hazel\\speaker-diarization\\scripts\\speaker_diarization\\hf_voxconverse_data\\sample_0\\sample_0.wav...\n"
     ]
    },
    {
     "name": "stderr",
     "output_type": "stream",
     "text": [
      "C:\\Users\\hazel\\anaconda3\\Lib\\site-packages\\pyannote\\audio\\models\\blocks\\pooling.py:104: UserWarning: std(): degrees of freedom is <= 0. Correction should be strictly less than the reduction factor (input numel divided by output numel). (Triggered internally at C:\\actions-runner\\_work\\pytorch\\pytorch\\pytorch\\aten\\src\\ATen\\native\\ReduceOps.cpp:1831.)\n",
      "  std = sequences.std(dim=-1, correction=1)\n",
      "C:\\Users\\hazel\\anaconda3\\Lib\\site-packages\\pyannote\\metrics\\utils.py:200: UserWarning: 'uem' was approximated by the union of 'reference' and 'hypothesis' extents.\n",
      "  warnings.warn(\n",
      " 10%|████████▏                                                                         | 1/10 [04:51<43:42, 291.37s/it]"
     ]
    },
    {
     "name": "stdout",
     "output_type": "stream",
     "text": [
      "GT segments: [<Segment(0.16, 34)>, <Segment(34.72, 42.36)>, <Segment(42.4, 66.2)>, <Segment(65.56, 96.24)>, <Segment(68.28, 68.92)>, <Segment(80.72, 81.24)>, <Segment(96.24, 100.2)>, <Segment(98.04, 98.76)>, <Segment(100.28, 123.24)>, <Segment(113.84, 115)>, <Segment(123.24, 127.04)>, <Segment(127.04, 145.6)>, <Segment(145.76, 152.72)>, <Segment(152.44, 154.44)>, <Segment(153.32, 154.48)>, <Segment(154.52, 163.36)>, <Segment(163.32, 167.04)>, <Segment(167.04, 173.72)>, <Segment(173.76, 174.44)>, <Segment(174.4, 175.24)>, <Segment(175.12, 175.6)>, <Segment(175.4, 178.12)>, <Segment(178.12, 178.76)>]\n",
      "HYP segments: [<Segment(0.0309687, 33.0385)>, <Segment(33.0385, 33.1228)>, <Segment(33.1228, 33.2578)>, <Segment(33.2578, 33.3085)>, <Segment(33.3085, 33.3422)>, <Segment(33.3422, 33.3591)>, <Segment(33.3591, 33.7978)>, <Segment(33.7978, 33.8485)>, <Segment(33.8485, 34.0172)>, <Segment(34.0172, 43.771)>, <Segment(43.771, 43.8047)>, <Segment(43.8047, 43.8553)>, <Segment(43.8553, 54.706)>, <Segment(55.1953, 66.1472)>, <Segment(65.4722, 96.2016)>, <Segment(68.2903, 68.8303)>, <Segment(80.6091, 80.896)>, <Segment(96.3535, 98.9691)>, <Segment(97.9397, 98.1591)>, <Segment(98.9691, 123.37)>, <Segment(103.306, 103.762)>, <Segment(106.495, 106.816)>, <Segment(107.693, 108.048)>, <Segment(113.802, 115.135)>, <Segment(123.185, 127.032)>, <Segment(127.015, 145.713)>, <Segment(145.662, 152.868)>, <Segment(152.193, 154.538)>, <Segment(153.593, 154.201)>, <Segment(154.201, 154.252)>, <Segment(154.268, 154.285)>, <Segment(154.454, 163.297)>, <Segment(163.499, 167.482)>, <Segment(167.482, 176.611)>, <Segment(173.725, 174.181)>, <Segment(174.181, 174.35)>, <Segment(174.35, 174.468)>, <Segment(174.468, 174.586)>, <Segment(174.721, 177.725)>, <Segment(176.611, 176.645)>, <Segment(176.645, 177.303)>, <Segment(177.303, 177.387)>, <Segment(177.455, 177.472)>, <Segment(177.59, 177.64)>, <Segment(178.282, 178.754)>]\n",
      "diarization error rate: {'total': 172.03999999999994, 'correct': 159.95221875, 'missed detection': 1.3665312499999587, 'false alarm': 6.7786250000000585, 'confusion': 10.721249999999998, 'diarization error rate': 0.10966290542897013}\n",
      "GT segments: [<Segment(0.16, 34)>, <Segment(34.72, 42.36)>, <Segment(42.4, 66.2)>, <Segment(65.56, 96.24)>, <Segment(68.28, 68.92)>, <Segment(80.72, 81.24)>, <Segment(96.24, 100.2)>, <Segment(98.04, 98.76)>, <Segment(100.28, 123.24)>, <Segment(113.84, 115)>, <Segment(123.24, 127.04)>, <Segment(127.04, 145.6)>, <Segment(145.76, 152.72)>, <Segment(152.44, 154.44)>, <Segment(153.32, 154.48)>, <Segment(154.52, 163.36)>, <Segment(163.32, 167.04)>, <Segment(167.04, 173.72)>, <Segment(173.76, 174.44)>, <Segment(174.4, 175.24)>, <Segment(175.12, 175.6)>, <Segment(175.4, 178.12)>, <Segment(178.12, 178.76)>]\n",
      "HYP segments: [<Segment(0.0309687, 33.0385)>, <Segment(33.0385, 33.1228)>, <Segment(33.1228, 33.2578)>, <Segment(33.2578, 33.3085)>, <Segment(33.3085, 33.3422)>, <Segment(33.3422, 33.3591)>, <Segment(33.3591, 33.7978)>, <Segment(33.7978, 33.8485)>, <Segment(33.8485, 34.0172)>, <Segment(34.0172, 43.771)>, <Segment(43.771, 43.8047)>, <Segment(43.8047, 43.8553)>, <Segment(43.8553, 54.706)>, <Segment(55.1953, 66.1472)>, <Segment(65.4722, 96.2016)>, <Segment(68.2903, 68.8303)>, <Segment(80.6091, 80.896)>, <Segment(96.3535, 98.9691)>, <Segment(97.9397, 98.1591)>, <Segment(98.9691, 123.37)>, <Segment(103.306, 103.762)>, <Segment(106.495, 106.816)>, <Segment(107.693, 108.048)>, <Segment(113.802, 115.135)>, <Segment(123.185, 127.032)>, <Segment(127.015, 145.713)>, <Segment(145.662, 152.868)>, <Segment(152.193, 154.538)>, <Segment(153.593, 154.201)>, <Segment(154.201, 154.252)>, <Segment(154.268, 154.285)>, <Segment(154.454, 163.297)>, <Segment(163.499, 167.482)>, <Segment(167.482, 176.611)>, <Segment(173.725, 174.181)>, <Segment(174.181, 174.35)>, <Segment(174.35, 174.468)>, <Segment(174.468, 174.586)>, <Segment(174.721, 177.725)>, <Segment(176.611, 176.645)>, <Segment(176.645, 177.303)>, <Segment(177.303, 177.387)>, <Segment(177.455, 177.472)>, <Segment(177.59, 177.64)>, <Segment(178.282, 178.754)>]\n",
      "jaccard error rate: {'speaker error': 0.7397527261156095, 'speaker count': 4.0, 'jaccard error rate': 0.18493818152890237}\n",
      "Processing C:\\Users\\hazel\\speaker-diarization\\scripts\\speaker_diarization\\hf_voxconverse_data\\sample_1\\sample_1.wav...\n"
     ]
    },
    {
     "name": "stderr",
     "output_type": "stream",
     "text": [
      "C:\\Users\\hazel\\anaconda3\\Lib\\site-packages\\pyannote\\metrics\\utils.py:200: UserWarning: 'uem' was approximated by the union of 'reference' and 'hypothesis' extents.\n",
      "  warnings.warn(\n",
      "\r",
      " 20%|████████████████▍                                                                 | 2/10 [10:20<41:48, 313.58s/it]"
     ]
    },
    {
     "name": "stdout",
     "output_type": "stream",
     "text": [
      "GT segments: [<Segment(1.88, 3.32)>, <Segment(3.32, 7.76)>, <Segment(9.36, 21.2)>, <Segment(21.72, 34.44)>, <Segment(34.48, 53)>, <Segment(53.92, 58.28)>, <Segment(58.88, 69.16)>, <Segment(69.24, 100.12)>, <Segment(100.16, 136.96)>, <Segment(136.88, 141.8)>, <Segment(142.04, 162.52)>, <Segment(162.6, 163.6)>, <Segment(163.72, 168.24)>, <Segment(169.36, 193.88)>, <Segment(193.36, 195.92)>, <Segment(195.68, 196.12)>, <Segment(197.72, 198.32)>]\n",
      "HYP segments: [<Segment(1.51597, 3.03472)>, <Segment(3.03472, 7.69222)>, <Segment(9.21097, 21.2766)>, <Segment(21.631, 52.9341)>, <Segment(53.8791, 58.621)>, <Segment(58.891, 69.1847)>, <Segment(69.1847, 99.6441)>, <Segment(100.15, 137.967)>, <Segment(137.967, 141.798)>, <Segment(141.882, 162.52)>, <Segment(162.52, 168.325)>, <Segment(168.865, 193.773)>, <Segment(189.706, 189.942)>, <Segment(193.081, 195.933)>, <Segment(197.502, 198.38)>]\n",
      "diarization error rate: {'total': 188.63999999999996, 'correct': 180.39784375, 'missed detection': 0.8098749999999519, 'false alarm': 2.9207812499999797, 'confusion': 7.432281250000017, 'diarization error rate': 0.059175877332484896}\n",
      "GT segments: [<Segment(1.88, 3.32)>, <Segment(3.32, 7.76)>, <Segment(9.36, 21.2)>, <Segment(21.72, 34.44)>, <Segment(34.48, 53)>, <Segment(53.92, 58.28)>, <Segment(58.88, 69.16)>, <Segment(69.24, 100.12)>, <Segment(100.16, 136.96)>, <Segment(136.88, 141.8)>, <Segment(142.04, 162.52)>, <Segment(162.6, 163.6)>, <Segment(163.72, 168.24)>, <Segment(169.36, 193.88)>, <Segment(193.36, 195.92)>, <Segment(195.68, 196.12)>, <Segment(197.72, 198.32)>]\n",
      "HYP segments: [<Segment(1.51597, 3.03472)>, <Segment(3.03472, 7.69222)>, <Segment(9.21097, 21.2766)>, <Segment(21.631, 52.9341)>, <Segment(53.8791, 58.621)>, <Segment(58.891, 69.1847)>, <Segment(69.1847, 99.6441)>, <Segment(100.15, 137.967)>, <Segment(137.967, 141.798)>, <Segment(141.882, 162.52)>, <Segment(162.52, 168.325)>, <Segment(168.865, 193.773)>, <Segment(189.706, 189.942)>, <Segment(193.081, 195.933)>, <Segment(197.502, 198.38)>]\n",
      "jaccard error rate: {'speaker error': 2.4025505638612534, 'speaker count': 7.0, 'jaccard error rate': 0.34322150912303623}\n",
      "Processing C:\\Users\\hazel\\speaker-diarization\\scripts\\speaker_diarization\\hf_voxconverse_data\\sample_2\\sample_2.wav...\n"
     ]
    },
    {
     "name": "stderr",
     "output_type": "stream",
     "text": [
      "C:\\Users\\hazel\\anaconda3\\Lib\\site-packages\\pyannote\\metrics\\utils.py:200: UserWarning: 'uem' was approximated by the union of 'reference' and 'hypothesis' extents.\n",
      "  warnings.warn(\n",
      "\r",
      " 30%|██████████████████████▏                                                   | 3/10 [16:44:43<53:18:17, 27413.87s/it]"
     ]
    },
    {
     "name": "stdout",
     "output_type": "stream",
     "text": [
      "GT segments: [<Segment(0.24, 11.12)>, <Segment(11.88, 14.48)>, <Segment(14.68, 18.6)>, <Segment(18.6, 22.28)>, <Segment(18.6, 22.32)>, <Segment(22.28, 26.2)>, <Segment(26.24, 27.12)>, <Segment(27.12, 41.96)>, <Segment(41.96, 45.2)>, <Segment(45.2, 49.56)>, <Segment(49.68, 54.4)>, <Segment(54.4, 63.2)>, <Segment(63.2, 68.56)>, <Segment(68.56, 73.8)>, <Segment(73.8, 77)>, <Segment(77, 81)>, <Segment(81.16, 85.56)>, <Segment(85.68, 88.6)>, <Segment(88.84, 90.32)>, <Segment(88.88, 92.68)>, <Segment(91.16, 92.28)>, <Segment(92.8, 95.8)>, <Segment(95.8, 100.84)>, <Segment(100.92, 104.96)>, <Segment(105.12, 106.64)>, <Segment(107, 114.72)>, <Segment(114.96, 117.84)>, <Segment(117.8, 119.32)>, <Segment(119.4, 123)>, <Segment(123, 125.16)>, <Segment(125.32, 126.36)>, <Segment(126.48, 131.28)>, <Segment(131.32, 135.16)>, <Segment(135.24, 139.52)>, <Segment(139.8, 142.4)>, <Segment(143.8, 150.6)>, <Segment(150.76, 154.08)>, <Segment(154.36, 158.76)>, <Segment(158.6, 161.52)>, <Segment(161.52, 170.52)>, <Segment(171.36, 176.12)>, <Segment(177.32, 182.04)>, <Segment(182.04, 189.8)>, <Segment(189.8, 193)>, <Segment(193, 200.28)>, <Segment(200.28, 205.6)>, <Segment(205.52, 210.68)>, <Segment(210.68, 213.88)>, <Segment(213.84, 216.24)>, <Segment(216.28, 220.76)>, <Segment(221, 239.16)>, <Segment(239.48, 242.16)>, <Segment(242.88, 268.92)>, <Segment(268.92, 289.92)>, <Segment(290.48, 297.84)>, <Segment(297.88, 310.44)>, <Segment(312.08, 323)>, <Segment(323.24, 323.88)>, <Segment(324.36, 332.6)>, <Segment(332.6, 337.4)>, <Segment(336.04, 336.52)>, <Segment(337.4, 354.32)>, <Segment(355.28, 361)>, <Segment(361.56, 373)>, <Segment(371.04, 371.56)>, <Segment(373, 383.8)>, <Segment(384.28, 396.28)>, <Segment(396.56, 417.8)>, <Segment(417.8, 457.8)>, <Segment(422.96, 423.68)>, <Segment(458.44, 460.76)>, <Segment(461, 472.12)>, <Segment(472.76, 498.36)>, <Segment(498.36, 515.2)>, <Segment(514.84, 543.08)>, <Segment(543.08, 570.44)>, <Segment(558.8, 559.36)>, <Segment(563.8, 564.24)>, <Segment(570.32, 570.76)>, <Segment(570.76, 585.16)>, <Segment(585.2, 613.4)>, <Segment(614.4, 626.52)>, <Segment(626.52, 629.24)>, <Segment(629.28, 630.28)>, <Segment(630.88, 637.2)>, <Segment(637.2, 638.72)>, <Segment(638.72, 649.76)>, <Segment(650.64, 651.32)>, <Segment(651.32, 668.76)>, <Segment(669.24, 686.4)>, <Segment(686.6, 702.8)>, <Segment(702.8, 718.12)>, <Segment(702.88, 703.48)>, <Segment(718.16, 719.6)>, <Segment(719.8, 722.44)>, <Segment(722.96, 723.56)>, <Segment(724.08, 725.36)>, <Segment(725.2, 726.48)>, <Segment(727.28, 728.08)>, <Segment(727.72, 728.4)>]\n",
      "HYP segments: [<Segment(0.0309687, 10.9322)>, <Segment(11.9616, 11.9953)>, <Segment(11.9953, 13.9697)>, <Segment(13.9697, 18.391)>, <Segment(18.526, 22.2216)>, <Segment(19.066, 19.1503)>, <Segment(19.1503, 21.9685)>, <Segment(22.3397, 28.0266)>, <Segment(28.0266, 41.881)>, <Segment(41.9485, 44.9691)>, <Segment(44.9691, 54.3516)>, <Segment(54.3516, 63.4978)>, <Segment(63.4978, 77.9766)>, <Segment(77.9766, 78.331)>, <Segment(78.331, 78.3478)>, <Segment(78.3478, 78.3647)>, <Segment(78.3647, 78.9722)>, <Segment(78.9722, 80.9466)>, <Segment(80.9466, 92.6241)>, <Segment(88.9285, 90.0422)>, <Segment(90.0422, 91.6791)>, <Segment(91.6791, 91.696)>, <Segment(92.6916, 95.2228)>, <Segment(95.341, 105.753)>, <Segment(104.892, 106.006)>, <Segment(105.753, 105.77)>, <Segment(105.77, 105.787)>, <Segment(106.006, 106.563)>, <Segment(106.563, 111.575)>, <Segment(111.963, 114.562)>, <Segment(114.916, 117.599)>, <Segment(117.903, 122.982)>, <Segment(122.982, 123.033)>, <Segment(123.033, 125.26)>, <Segment(125.26, 126.172)>, <Segment(126.408, 135.014)>, <Segment(135.217, 139.368)>, <Segment(139.368, 140.903)>, <Segment(141.612, 154.083)>, <Segment(154.218, 156.698)>, <Segment(157.458, 158.572)>, <Segment(158.572, 161.609)>, <Segment(161.643, 170.62)>, <Segment(171.278, 175.936)>, <Segment(176.965, 181.707)>, <Segment(181.707, 190.128)>, <Segment(190.432, 194.448)>, <Segment(194.448, 194.498)>, <Segment(194.498, 194.532)>, <Segment(194.735, 194.752)>, <Segment(194.752, 195.967)>, <Segment(195.967, 200.135)>, <Segment(200.337, 205.433)>, <Segment(205.535, 208.538)>, <Segment(209.062, 210.817)>, <Segment(210.817, 213.365)>, <Segment(213.449, 215.221)>, <Segment(215.221, 215.373)>, <Segment(215.373, 215.812)>, <Segment(215.812, 215.845)>, <Segment(215.845, 216.065)>, <Segment(216.065, 216.082)>, <Segment(216.082, 216.233)>, <Segment(216.233, 241.951)>, <Segment(242.828, 268.883)>, <Segment(268.883, 268.985)>, <Segment(269.153, 269.71)>, <Segment(269.778, 283.396)>, <Segment(283.598, 284.071)>, <Segment(284.442, 284.662)>, <Segment(284.965, 289.96)>, <Segment(290.163, 301.351)>, <Segment(301.807, 310.514)>, <Segment(310.683, 311.172)>, <Segment(311.83, 313.973)>, <Segment(314.058, 316.893)>, <Segment(317.298, 321.297)>, <Segment(321.449, 322.563)>, <Segment(323.238, 323.727)>, <Segment(324.284, 325.28)>, <Segment(325.634, 327.355)>, <Segment(327.997, 332.57)>, <Segment(332.57, 337.598)>, <Segment(334.477, 334.51)>, <Segment(334.51, 334.763)>, <Segment(335.877, 336.502)>, <Segment(337.261, 354.102)>, <Segment(340.805, 341.21)>, <Segment(354.895, 361.19)>, <Segment(361.392, 372.985)>, <Segment(370.842, 371.23)>, <Segment(372.783, 417.907)>, <Segment(394.045, 394.096)>, <Segment(394.383, 394.552)>, <Segment(394.552, 394.568)>, <Segment(394.568, 394.585)>, <Segment(400.222, 400.694)>, <Segment(409.402, 409.773)>, <Segment(417.063, 434.697)>, <Segment(424.673, 424.724)>, <Segment(435.136, 450.087)>, <Segment(450.374, 452.365)>, <Segment(452.838, 457.9)>, <Segment(458.39, 460.364)>, <Segment(460.955, 472.261)>, <Segment(472.598, 476.227)>, <Segment(476.564, 478.167)>, <Segment(478.488, 485.103)>, <Segment(485.575, 496.426)>, <Segment(496.426, 496.443)>, <Segment(496.73, 498.029)>, <Segment(498.029, 516.963)>, <Segment(514.904, 515.579)>, <Segment(516.963, 521.772)>, <Segment(522.228, 529.771)>, <Segment(530.007, 530.767)>, <Segment(531.138, 532.876)>, <Segment(533.213, 543.052)>, <Segment(542.883, 571.013)>, <Segment(546.983, 547.355)>, <Segment(547.81, 548.401)>, <Segment(551.033, 551.59)>, <Segment(563.858, 564.23)>, <Segment(564.23, 564.263)>, <Segment(565.546, 565.917)>, <Segment(570.743, 586.049)>, <Segment(585.087, 626.397)>, <Segment(587.129, 587.703)>, <Segment(626.397, 630.346)>, <Segment(630.852, 637.737)>, <Segment(635.847, 637.518)>, <Segment(637.737, 638.21)>, <Segment(638.21, 649.668)>, <Segment(638.227, 638.598)>, <Segment(640.505, 641.467)>, <Segment(643.306, 643.407)>, <Segment(645.702, 646.057)>, <Segment(646.057, 646.09)>, <Segment(650.663, 651.372)>, <Segment(651.372, 668.618)>, <Segment(669.226, 677.562)>, <Segment(678.17, 686.152)>, <Segment(686.523, 699.365)>, <Segment(699.618, 703.364)>, <Segment(703.229, 719.581)>, <Segment(719.581, 725.015)>, <Segment(720.847, 721.454)>, <Segment(725.015, 726.23)>, <Segment(726.162, 727.782)>, <Segment(727.782, 728.221)>, <Segment(727.799, 727.833)>]\n",
      "diarization error rate: {'total': 696.5999999999999, 'correct': 649.1430312500007, 'missed detection': 15.079281249999651, 'false alarm': 25.77740624999998, 'confusion': 32.377687499999354, 'diarization error rate': 0.10513117283950474}\n",
      "GT segments: [<Segment(0.24, 11.12)>, <Segment(11.88, 14.48)>, <Segment(14.68, 18.6)>, <Segment(18.6, 22.28)>, <Segment(18.6, 22.32)>, <Segment(22.28, 26.2)>, <Segment(26.24, 27.12)>, <Segment(27.12, 41.96)>, <Segment(41.96, 45.2)>, <Segment(45.2, 49.56)>, <Segment(49.68, 54.4)>, <Segment(54.4, 63.2)>, <Segment(63.2, 68.56)>, <Segment(68.56, 73.8)>, <Segment(73.8, 77)>, <Segment(77, 81)>, <Segment(81.16, 85.56)>, <Segment(85.68, 88.6)>, <Segment(88.84, 90.32)>, <Segment(88.88, 92.68)>, <Segment(91.16, 92.28)>, <Segment(92.8, 95.8)>, <Segment(95.8, 100.84)>, <Segment(100.92, 104.96)>, <Segment(105.12, 106.64)>, <Segment(107, 114.72)>, <Segment(114.96, 117.84)>, <Segment(117.8, 119.32)>, <Segment(119.4, 123)>, <Segment(123, 125.16)>, <Segment(125.32, 126.36)>, <Segment(126.48, 131.28)>, <Segment(131.32, 135.16)>, <Segment(135.24, 139.52)>, <Segment(139.8, 142.4)>, <Segment(143.8, 150.6)>, <Segment(150.76, 154.08)>, <Segment(154.36, 158.76)>, <Segment(158.6, 161.52)>, <Segment(161.52, 170.52)>, <Segment(171.36, 176.12)>, <Segment(177.32, 182.04)>, <Segment(182.04, 189.8)>, <Segment(189.8, 193)>, <Segment(193, 200.28)>, <Segment(200.28, 205.6)>, <Segment(205.52, 210.68)>, <Segment(210.68, 213.88)>, <Segment(213.84, 216.24)>, <Segment(216.28, 220.76)>, <Segment(221, 239.16)>, <Segment(239.48, 242.16)>, <Segment(242.88, 268.92)>, <Segment(268.92, 289.92)>, <Segment(290.48, 297.84)>, <Segment(297.88, 310.44)>, <Segment(312.08, 323)>, <Segment(323.24, 323.88)>, <Segment(324.36, 332.6)>, <Segment(332.6, 337.4)>, <Segment(336.04, 336.52)>, <Segment(337.4, 354.32)>, <Segment(355.28, 361)>, <Segment(361.56, 373)>, <Segment(371.04, 371.56)>, <Segment(373, 383.8)>, <Segment(384.28, 396.28)>, <Segment(396.56, 417.8)>, <Segment(417.8, 457.8)>, <Segment(422.96, 423.68)>, <Segment(458.44, 460.76)>, <Segment(461, 472.12)>, <Segment(472.76, 498.36)>, <Segment(498.36, 515.2)>, <Segment(514.84, 543.08)>, <Segment(543.08, 570.44)>, <Segment(558.8, 559.36)>, <Segment(563.8, 564.24)>, <Segment(570.32, 570.76)>, <Segment(570.76, 585.16)>, <Segment(585.2, 613.4)>, <Segment(614.4, 626.52)>, <Segment(626.52, 629.24)>, <Segment(629.28, 630.28)>, <Segment(630.88, 637.2)>, <Segment(637.2, 638.72)>, <Segment(638.72, 649.76)>, <Segment(650.64, 651.32)>, <Segment(651.32, 668.76)>, <Segment(669.24, 686.4)>, <Segment(686.6, 702.8)>, <Segment(702.8, 718.12)>, <Segment(702.88, 703.48)>, <Segment(718.16, 719.6)>, <Segment(719.8, 722.44)>, <Segment(722.96, 723.56)>, <Segment(724.08, 725.36)>, <Segment(725.2, 726.48)>, <Segment(727.28, 728.08)>, <Segment(727.72, 728.4)>]\n",
      "HYP segments: [<Segment(0.0309687, 10.9322)>, <Segment(11.9616, 11.9953)>, <Segment(11.9953, 13.9697)>, <Segment(13.9697, 18.391)>, <Segment(18.526, 22.2216)>, <Segment(19.066, 19.1503)>, <Segment(19.1503, 21.9685)>, <Segment(22.3397, 28.0266)>, <Segment(28.0266, 41.881)>, <Segment(41.9485, 44.9691)>, <Segment(44.9691, 54.3516)>, <Segment(54.3516, 63.4978)>, <Segment(63.4978, 77.9766)>, <Segment(77.9766, 78.331)>, <Segment(78.331, 78.3478)>, <Segment(78.3478, 78.3647)>, <Segment(78.3647, 78.9722)>, <Segment(78.9722, 80.9466)>, <Segment(80.9466, 92.6241)>, <Segment(88.9285, 90.0422)>, <Segment(90.0422, 91.6791)>, <Segment(91.6791, 91.696)>, <Segment(92.6916, 95.2228)>, <Segment(95.341, 105.753)>, <Segment(104.892, 106.006)>, <Segment(105.753, 105.77)>, <Segment(105.77, 105.787)>, <Segment(106.006, 106.563)>, <Segment(106.563, 111.575)>, <Segment(111.963, 114.562)>, <Segment(114.916, 117.599)>, <Segment(117.903, 122.982)>, <Segment(122.982, 123.033)>, <Segment(123.033, 125.26)>, <Segment(125.26, 126.172)>, <Segment(126.408, 135.014)>, <Segment(135.217, 139.368)>, <Segment(139.368, 140.903)>, <Segment(141.612, 154.083)>, <Segment(154.218, 156.698)>, <Segment(157.458, 158.572)>, <Segment(158.572, 161.609)>, <Segment(161.643, 170.62)>, <Segment(171.278, 175.936)>, <Segment(176.965, 181.707)>, <Segment(181.707, 190.128)>, <Segment(190.432, 194.448)>, <Segment(194.448, 194.498)>, <Segment(194.498, 194.532)>, <Segment(194.735, 194.752)>, <Segment(194.752, 195.967)>, <Segment(195.967, 200.135)>, <Segment(200.337, 205.433)>, <Segment(205.535, 208.538)>, <Segment(209.062, 210.817)>, <Segment(210.817, 213.365)>, <Segment(213.449, 215.221)>, <Segment(215.221, 215.373)>, <Segment(215.373, 215.812)>, <Segment(215.812, 215.845)>, <Segment(215.845, 216.065)>, <Segment(216.065, 216.082)>, <Segment(216.082, 216.233)>, <Segment(216.233, 241.951)>, <Segment(242.828, 268.883)>, <Segment(268.883, 268.985)>, <Segment(269.153, 269.71)>, <Segment(269.778, 283.396)>, <Segment(283.598, 284.071)>, <Segment(284.442, 284.662)>, <Segment(284.965, 289.96)>, <Segment(290.163, 301.351)>, <Segment(301.807, 310.514)>, <Segment(310.683, 311.172)>, <Segment(311.83, 313.973)>, <Segment(314.058, 316.893)>, <Segment(317.298, 321.297)>, <Segment(321.449, 322.563)>, <Segment(323.238, 323.727)>, <Segment(324.284, 325.28)>, <Segment(325.634, 327.355)>, <Segment(327.997, 332.57)>, <Segment(332.57, 337.598)>, <Segment(334.477, 334.51)>, <Segment(334.51, 334.763)>, <Segment(335.877, 336.502)>, <Segment(337.261, 354.102)>, <Segment(340.805, 341.21)>, <Segment(354.895, 361.19)>, <Segment(361.392, 372.985)>, <Segment(370.842, 371.23)>, <Segment(372.783, 417.907)>, <Segment(394.045, 394.096)>, <Segment(394.383, 394.552)>, <Segment(394.552, 394.568)>, <Segment(394.568, 394.585)>, <Segment(400.222, 400.694)>, <Segment(409.402, 409.773)>, <Segment(417.063, 434.697)>, <Segment(424.673, 424.724)>, <Segment(435.136, 450.087)>, <Segment(450.374, 452.365)>, <Segment(452.838, 457.9)>, <Segment(458.39, 460.364)>, <Segment(460.955, 472.261)>, <Segment(472.598, 476.227)>, <Segment(476.564, 478.167)>, <Segment(478.488, 485.103)>, <Segment(485.575, 496.426)>, <Segment(496.426, 496.443)>, <Segment(496.73, 498.029)>, <Segment(498.029, 516.963)>, <Segment(514.904, 515.579)>, <Segment(516.963, 521.772)>, <Segment(522.228, 529.771)>, <Segment(530.007, 530.767)>, <Segment(531.138, 532.876)>, <Segment(533.213, 543.052)>, <Segment(542.883, 571.013)>, <Segment(546.983, 547.355)>, <Segment(547.81, 548.401)>, <Segment(551.033, 551.59)>, <Segment(563.858, 564.23)>, <Segment(564.23, 564.263)>, <Segment(565.546, 565.917)>, <Segment(570.743, 586.049)>, <Segment(585.087, 626.397)>, <Segment(587.129, 587.703)>, <Segment(626.397, 630.346)>, <Segment(630.852, 637.737)>, <Segment(635.847, 637.518)>, <Segment(637.737, 638.21)>, <Segment(638.21, 649.668)>, <Segment(638.227, 638.598)>, <Segment(640.505, 641.467)>, <Segment(643.306, 643.407)>, <Segment(645.702, 646.057)>, <Segment(646.057, 646.09)>, <Segment(650.663, 651.372)>, <Segment(651.372, 668.618)>, <Segment(669.226, 677.562)>, <Segment(678.17, 686.152)>, <Segment(686.523, 699.365)>, <Segment(699.618, 703.364)>, <Segment(703.229, 719.581)>, <Segment(719.581, 725.015)>, <Segment(720.847, 721.454)>, <Segment(725.015, 726.23)>, <Segment(726.162, 727.782)>, <Segment(727.782, 728.221)>, <Segment(727.799, 727.833)>]\n",
      "jaccard error rate: {'speaker error': 8.461322446777135, 'speaker count': 17.0, 'jaccard error rate': 0.4977248498104197}\n",
      "Processing C:\\Users\\hazel\\speaker-diarization\\scripts\\speaker_diarization\\hf_voxconverse_data\\sample_3\\sample_3.wav...\n"
     ]
    },
    {
     "name": "stderr",
     "output_type": "stream",
     "text": [
      "C:\\Users\\hazel\\anaconda3\\Lib\\site-packages\\pyannote\\metrics\\utils.py:200: UserWarning: 'uem' was approximated by the union of 'reference' and 'hypothesis' extents.\n",
      "  warnings.warn(\n",
      "\r",
      " 40%|█████████████████████████████▌                                            | 4/10 [16:45:19<27:40:32, 16605.38s/it]"
     ]
    },
    {
     "name": "stdout",
     "output_type": "stream",
     "text": [
      "GT segments: [<Segment(0.16, 5)>, <Segment(5.4, 27.96)>]\n",
      "HYP segments: [<Segment(0.0309687, 27.976)>]\n",
      "diarization error rate: {'total': 27.400000000000002, 'correct': 27.400000000000002, 'missed detection': 0.0, 'false alarm': 0.5449999999999994, 'confusion': 0.0, 'diarization error rate': 0.019890510948905087}\n",
      "GT segments: [<Segment(0.16, 5)>, <Segment(5.4, 27.96)>]\n",
      "HYP segments: [<Segment(0.0309687, 27.976)>]\n",
      "jaccard error rate: {'speaker error': 0.019502594381821368, 'speaker count': 1.0, 'jaccard error rate': 0.019502594381821368}\n",
      "Processing C:\\Users\\hazel\\speaker-diarization\\scripts\\speaker_diarization\\hf_voxconverse_data\\sample_4\\sample_4.wav...\n"
     ]
    },
    {
     "name": "stderr",
     "output_type": "stream",
     "text": [
      "C:\\Users\\hazel\\anaconda3\\Lib\\site-packages\\pyannote\\metrics\\utils.py:200: UserWarning: 'uem' was approximated by the union of 'reference' and 'hypothesis' extents.\n",
      "  warnings.warn(\n",
      "\r",
      " 50%|█████████████████████████████████████                                     | 5/10 [16:46:20<14:46:35, 10639.12s/it]"
     ]
    },
    {
     "name": "stdout",
     "output_type": "stream",
     "text": [
      "GT segments: [<Segment(0.04, 2.88)>, <Segment(3.44, 5.2)>, <Segment(5.24, 6.64)>, <Segment(7.52, 9.96)>, <Segment(10.8, 16.08)>, <Segment(16.16, 19.28)>, <Segment(20.56, 24.68)>, <Segment(30.8, 31.2)>, <Segment(32.64, 43.76)>]\n",
      "HYP segments: [<Segment(0.0309687, 2.71409)>, <Segment(3.42284, 4.72222)>, <Segment(5.24534, 6.54472)>, <Segment(7.35472, 9.83534)>, <Segment(10.7972, 19.0491)>, <Segment(20.551, 24.6516)>, <Segment(30.7941, 30.811)>, <Segment(30.811, 31.081)>, <Segment(32.6503, 43.5347)>]\n",
      "diarization error rate: {'total': 32.48, 'correct': 30.727062500000002, 'missed detection': 1.4829374999999967, 'false alarm': 0.28918749999999077, 'confusion': 0.2699999999999996, 'diarization error rate': 0.06287330665024592}\n",
      "GT segments: [<Segment(0.04, 2.88)>, <Segment(3.44, 5.2)>, <Segment(5.24, 6.64)>, <Segment(7.52, 9.96)>, <Segment(10.8, 16.08)>, <Segment(16.16, 19.28)>, <Segment(20.56, 24.68)>, <Segment(30.8, 31.2)>, <Segment(32.64, 43.76)>]\n",
      "HYP segments: [<Segment(0.0309687, 2.71409)>, <Segment(3.42284, 4.72222)>, <Segment(5.24534, 6.54472)>, <Segment(7.35472, 9.83534)>, <Segment(10.7972, 19.0491)>, <Segment(20.551, 24.6516)>, <Segment(30.7941, 30.811)>, <Segment(30.811, 31.081)>, <Segment(32.6503, 43.5347)>]\n",
      "jaccard error rate: {'speaker error': 0.10463353867408794, 'speaker count': 2.0, 'jaccard error rate': 0.05231676933704397}\n",
      "Processing C:\\Users\\hazel\\speaker-diarization\\scripts\\speaker_diarization\\hf_voxconverse_data\\sample_5\\sample_5.wav...\n"
     ]
    },
    {
     "name": "stderr",
     "output_type": "stream",
     "text": [
      "C:\\Users\\hazel\\anaconda3\\Lib\\site-packages\\pyannote\\metrics\\utils.py:200: UserWarning: 'uem' was approximated by the union of 'reference' and 'hypothesis' extents.\n",
      "  warnings.warn(\n",
      "\r",
      " 60%|█████████████████████████████████████████████▌                              | 6/10 [16:49:42<7:52:42, 7090.58s/it]"
     ]
    },
    {
     "name": "stdout",
     "output_type": "stream",
     "text": [
      "GT segments: [<Segment(0.56, 1.68)>, <Segment(1.76, 4.12)>, <Segment(9, 34.12)>, <Segment(34.16, 58.64)>, <Segment(58.84, 60.88)>, <Segment(61.04, 120.72)>]\n",
      "HYP segments: [<Segment(0.419094, 4.38472)>, <Segment(8.97472, 58.3678)>, <Segment(58.7897, 60.9666)>, <Segment(60.9666, 60.9835)>, <Segment(61.0003, 113.701)>, <Segment(114.089, 120.434)>]\n",
      "diarization error rate: {'total': 114.80000000000001, 'correct': 112.73381250000001, 'missed detection': 0.9461874999999935, 'false alarm': 0.7443124999999802, 'confusion': 1.12, 'diarization error rate': 0.02448170731707294}\n",
      "GT segments: [<Segment(0.56, 1.68)>, <Segment(1.76, 4.12)>, <Segment(9, 34.12)>, <Segment(34.16, 58.64)>, <Segment(58.84, 60.88)>, <Segment(61.04, 120.72)>]\n",
      "HYP segments: [<Segment(0.419094, 4.38472)>, <Segment(8.97472, 58.3678)>, <Segment(58.7897, 60.9666)>, <Segment(60.9666, 60.9835)>, <Segment(61.0003, 113.701)>, <Segment(114.089, 120.434)>]\n",
      "jaccard error rate: {'speaker error': 0.0676782779697849, 'speaker count': 2.0, 'jaccard error rate': 0.03383913898489245}\n",
      "Processing C:\\Users\\hazel\\speaker-diarization\\scripts\\speaker_diarization\\hf_voxconverse_data\\sample_6\\sample_6.wav...\n"
     ]
    },
    {
     "name": "stderr",
     "output_type": "stream",
     "text": [
      "C:\\Users\\hazel\\anaconda3\\Lib\\site-packages\\pyannote\\metrics\\utils.py:200: UserWarning: 'uem' was approximated by the union of 'reference' and 'hypothesis' extents.\n",
      "  warnings.warn(\n",
      "\r",
      " 70%|█████████████████████████████████████████████████████▏                      | 7/10 [16:56:11<4:04:59, 4899.73s/it]"
     ]
    },
    {
     "name": "stdout",
     "output_type": "stream",
     "text": [
      "GT segments: [<Segment(0.04, 16.32)>, <Segment(16.48, 36)>, <Segment(37.44, 44.64)>, <Segment(45.6, 49.44)>, <Segment(45.88, 46.76)>, <Segment(48.24, 62.04)>, <Segment(64.08, 69.32)>, <Segment(69.96, 73.96)>, <Segment(74.04, 77.6)>, <Segment(78, 126.64)>, <Segment(126.48, 147.76)>, <Segment(148.44, 155.04)>, <Segment(155.36, 156.24)>, <Segment(156.28, 159)>, <Segment(159.56, 180.12)>, <Segment(181.52, 186.4)>, <Segment(187.32, 197.2)>, <Segment(198.32, 202.32)>, <Segment(203.2, 205.44)>, <Segment(205.68, 209.44)>, <Segment(209.48, 213.24)>, <Segment(213.28, 215)>]\n",
      "HYP segments: [<Segment(0.0309687, 35.9747)>, <Segment(37.2572, 42.1847)>, <Segment(42.4885, 44.6991)>, <Segment(45.5428, 49.1878)>, <Segment(45.7453, 46.5722)>, <Segment(46.5722, 46.6228)>, <Segment(46.6228, 46.7241)>, <Segment(48.1247, 62.0128)>, <Segment(64.0041, 77.6897)>, <Segment(77.9597, 126.762)>, <Segment(126.425, 155.045)>, <Segment(155.247, 156.243)>, <Segment(156.243, 161.592)>, <Segment(161.828, 180.188)>, <Segment(180.897, 186.398)>, <Segment(187.192, 197.384)>, <Segment(198.211, 202.413)>, <Segment(203.088, 205.298)>, <Segment(205.636, 214.934)>]\n",
      "diarization error rate: {'total': 200.75999999999996, 'correct': 199.95859375, 'missed detection': 0.8014062499999852, 'false alarm': 4.660718749999997, 'confusion': 0.0, 'diarization error rate': 0.027207237497509383}\n",
      "GT segments: [<Segment(0.04, 16.32)>, <Segment(16.48, 36)>, <Segment(37.44, 44.64)>, <Segment(45.6, 49.44)>, <Segment(45.88, 46.76)>, <Segment(48.24, 62.04)>, <Segment(64.08, 69.32)>, <Segment(69.96, 73.96)>, <Segment(74.04, 77.6)>, <Segment(78, 126.64)>, <Segment(126.48, 147.76)>, <Segment(148.44, 155.04)>, <Segment(155.36, 156.24)>, <Segment(156.28, 159)>, <Segment(159.56, 180.12)>, <Segment(181.52, 186.4)>, <Segment(187.32, 197.2)>, <Segment(198.32, 202.32)>, <Segment(203.2, 205.44)>, <Segment(205.68, 209.44)>, <Segment(209.48, 213.24)>, <Segment(213.28, 215)>]\n",
      "HYP segments: [<Segment(0.0309687, 35.9747)>, <Segment(37.2572, 42.1847)>, <Segment(42.4885, 44.6991)>, <Segment(45.5428, 49.1878)>, <Segment(45.7453, 46.5722)>, <Segment(46.5722, 46.6228)>, <Segment(46.6228, 46.7241)>, <Segment(48.1247, 62.0128)>, <Segment(64.0041, 77.6897)>, <Segment(77.9597, 126.762)>, <Segment(126.425, 155.045)>, <Segment(155.247, 156.243)>, <Segment(156.243, 161.592)>, <Segment(161.828, 180.188)>, <Segment(180.897, 186.398)>, <Segment(187.192, 197.384)>, <Segment(198.211, 202.413)>, <Segment(203.088, 205.298)>, <Segment(205.636, 214.934)>]\n",
      "jaccard error rate: {'speaker error': 0.15113371228341108, 'speaker count': 5.0, 'jaccard error rate': 0.030226742456682214}\n",
      "Processing C:\\Users\\hazel\\speaker-diarization\\scripts\\speaker_diarization\\hf_voxconverse_data\\sample_7\\sample_7.wav...\n"
     ]
    },
    {
     "name": "stderr",
     "output_type": "stream",
     "text": [
      "C:\\Users\\hazel\\anaconda3\\Lib\\site-packages\\pyannote\\metrics\\utils.py:200: UserWarning: 'uem' was approximated by the union of 'reference' and 'hypothesis' extents.\n",
      "  warnings.warn(\n",
      "\r",
      " 80%|████████████████████████████████████████████████████████████▊               | 8/10 [17:04:28<1:56:36, 3498.11s/it]"
     ]
    },
    {
     "name": "stdout",
     "output_type": "stream",
     "text": [
      "GT segments: [<Segment(1.48, 26.24)>, <Segment(26.28, 111.12)>, <Segment(97.64, 98.04)>, <Segment(101.8, 102.04)>, <Segment(111.36, 114.4)>, <Segment(115.84, 155.96)>, <Segment(156.12, 208.68)>, <Segment(208.88, 254.52)>, <Segment(254.4, 266.32)>, <Segment(267, 295.2)>, <Segment(295.48, 297.72)>, <Segment(296, 308.88)>, <Segment(308.96, 311)>]\n",
      "HYP segments: [<Segment(1.46534, 26.221)>, <Segment(26.221, 111.119)>, <Segment(101.77, 102.125)>, <Segment(111.119, 114.528)>, <Segment(115.793, 155.905)>, <Segment(156.142, 208.707)>, <Segment(208.758, 254.32)>, <Segment(254.32, 266.335)>, <Segment(266.96, 281.877)>, <Segment(282.097, 297.335)>, <Segment(295.934, 308.81)>, <Segment(305.333, 306.363)>, <Segment(308.928, 310.885)>]\n",
      "diarization error rate: {'total': 303.91999999999996, 'correct': 302.81984375, 'missed detection': 0.4805624999999907, 'false alarm': 2.1958437499999004, 'confusion': 0.6195937499999822, 'diarization error rate': 0.010844959199789003}\n",
      "GT segments: [<Segment(1.48, 26.24)>, <Segment(26.28, 111.12)>, <Segment(97.64, 98.04)>, <Segment(101.8, 102.04)>, <Segment(111.36, 114.4)>, <Segment(115.84, 155.96)>, <Segment(156.12, 208.68)>, <Segment(208.88, 254.52)>, <Segment(254.4, 266.32)>, <Segment(267, 295.2)>, <Segment(295.48, 297.72)>, <Segment(296, 308.88)>, <Segment(308.96, 311)>]\n",
      "HYP segments: [<Segment(1.46534, 26.221)>, <Segment(26.221, 111.119)>, <Segment(101.77, 102.125)>, <Segment(111.119, 114.528)>, <Segment(115.793, 155.905)>, <Segment(156.142, 208.707)>, <Segment(208.758, 254.32)>, <Segment(254.32, 266.335)>, <Segment(266.96, 281.877)>, <Segment(282.097, 297.335)>, <Segment(295.934, 308.81)>, <Segment(305.333, 306.363)>, <Segment(308.928, 310.885)>]\n",
      "jaccard error rate: {'speaker error': 0.10902886613945251, 'speaker count': 6.0, 'jaccard error rate': 0.01817147768990875}\n",
      "Processing C:\\Users\\hazel\\speaker-diarization\\scripts\\speaker_diarization\\hf_voxconverse_data\\sample_8\\sample_8.wav...\n"
     ]
    },
    {
     "name": "stderr",
     "output_type": "stream",
     "text": [
      "C:\\Users\\hazel\\anaconda3\\Lib\\site-packages\\pyannote\\metrics\\utils.py:200: UserWarning: 'uem' was approximated by the union of 'reference' and 'hypothesis' extents.\n",
      "  warnings.warn(\n",
      "\r",
      " 90%|██████████████████████████████████████████████████████████████████████▏       | 9/10 [17:12:59<42:44, 2564.20s/it]"
     ]
    },
    {
     "name": "stdout",
     "output_type": "stream",
     "text": [
      "GT segments: [<Segment(0.16, 42.32)>, <Segment(42.24, 44.88)>, <Segment(46.36, 51.64)>, <Segment(55.36, 55.96)>, <Segment(56.44, 57.36)>, <Segment(56.8, 70.08)>, <Segment(60.12, 60.4)>, <Segment(69.84, 71.44)>, <Segment(72.6, 75.96)>, <Segment(76.28, 84.2)>, <Segment(84.24, 85.76)>, <Segment(85.4, 89.6)>, <Segment(90.88, 91.2)>, <Segment(92.2, 95.36)>, <Segment(95.4, 98.24)>, <Segment(98.28, 100.04)>, <Segment(99.44, 100.56)>, <Segment(100.64, 101.8)>, <Segment(102.76, 103.28)>, <Segment(103.88, 109.24)>, <Segment(107.32, 120.88)>, <Segment(121.6, 137.2)>, <Segment(123.04, 127.04)>, <Segment(130.28, 133.16)>, <Segment(133.72, 135.2)>, <Segment(136.44, 137.32)>, <Segment(137.68, 141.16)>, <Segment(142.12, 146)>, <Segment(144.56, 153.96)>, <Segment(151.52, 151.8)>, <Segment(153.24, 156.04)>, <Segment(156.08, 182.28)>, <Segment(182.28, 195.56)>, <Segment(186.28, 188.88)>, <Segment(192.68, 199.2)>, <Segment(196.92, 197.28)>, <Segment(198.04, 202.96)>, <Segment(199.92, 200.72)>, <Segment(202.08, 203.48)>, <Segment(203.52, 203.84)>, <Segment(204.48, 223.16)>, <Segment(223.04, 224.32)>, <Segment(224.88, 229.6)>, <Segment(229.76, 240.64)>, <Segment(235.64, 236.44)>, <Segment(237.08, 237.76)>, <Segment(238.56, 239.76)>, <Segment(240.36, 244.96)>, <Segment(241.36, 242.48)>, <Segment(245.2, 246.72)>, <Segment(247.64, 259.44)>, <Segment(259.52, 263.88)>, <Segment(264.6, 265.88)>, <Segment(265.92, 274.64)>, <Segment(274.92, 282)>, <Segment(281.28, 284.28)>, <Segment(282.72, 295.72)>, <Segment(295.8, 296.2)>, <Segment(297.6, 300.08)>]\n",
      "HYP segments: [<Segment(0.0309687, 42.0328)>, <Segment(42.0328, 44.9016)>, <Segment(42.2185, 42.2353)>, <Segment(46.2347, 51.6178)>, <Segment(55.2797, 55.7016)>, <Segment(56.2753, 69.9778)>, <Segment(60.0216, 60.4941)>, <Segment(69.9778, 71.5641)>, <Segment(72.526, 84.946)>, <Segment(84.946, 89.6035)>, <Segment(85.1485, 85.5703)>, <Segment(90.8691, 91.3753)>, <Segment(92.1347, 101.855)>, <Segment(99.391, 99.9478)>, <Segment(102.665, 103.222)>, <Segment(103.694, 109.178)>, <Segment(107.356, 121.092)>, <Segment(121.48, 124.231)>, <Segment(122.965, 141.376)>, <Segment(124.568, 125.429)>, <Segment(125.868, 127.049)>, <Segment(130.424, 135.014)>, <Segment(136.533, 137.36)>, <Segment(141.983, 144.97)>, <Segment(144.97, 153.627)>, <Segment(145.493, 145.78)>, <Segment(151.535, 151.737)>, <Segment(153.627, 182.264)>, <Segment(153.695, 153.897)>, <Segment(182.264, 195.578)>, <Segment(186.179, 188.693)>, <Segment(192.642, 199.122)>, <Segment(197.873, 199.24)>, <Segment(199.24, 199.645)>, <Segment(199.645, 203.307)>, <Segment(199.713, 200.472)>, <Segment(201.907, 202.767)>, <Segment(203.307, 223.068)>, <Segment(223.068, 229.548)>, <Segment(229.548, 236.45)>, <Segment(235.505, 236.467)>, <Segment(236.467, 236.652)>, <Segment(236.855, 240.567)>, <Segment(237.513, 237.631)>, <Segment(238.745, 239.825)>, <Segment(240.23, 247.148)>, <Segment(241.327, 242.305)>, <Segment(247.503, 264.007)>, <Segment(264.445, 296.137)>, <Segment(281.067, 282.08)>, <Segment(282.552, 282.974)>, <Segment(283.126, 284.341)>, <Segment(297.537, 299.714)>]\n",
      "diarization error rate: {'total': 250.72000000000017, 'correct': 245.1448437500002, 'missed detection': 0.9707812499999804, 'false alarm': 8.856218749999943, 'confusion': 4.604374999999969, 'diarization error rate': 0.05755972798340732}\n",
      "GT segments: [<Segment(0.16, 42.32)>, <Segment(42.24, 44.88)>, <Segment(46.36, 51.64)>, <Segment(55.36, 55.96)>, <Segment(56.44, 57.36)>, <Segment(56.8, 70.08)>, <Segment(60.12, 60.4)>, <Segment(69.84, 71.44)>, <Segment(72.6, 75.96)>, <Segment(76.28, 84.2)>, <Segment(84.24, 85.76)>, <Segment(85.4, 89.6)>, <Segment(90.88, 91.2)>, <Segment(92.2, 95.36)>, <Segment(95.4, 98.24)>, <Segment(98.28, 100.04)>, <Segment(99.44, 100.56)>, <Segment(100.64, 101.8)>, <Segment(102.76, 103.28)>, <Segment(103.88, 109.24)>, <Segment(107.32, 120.88)>, <Segment(121.6, 137.2)>, <Segment(123.04, 127.04)>, <Segment(130.28, 133.16)>, <Segment(133.72, 135.2)>, <Segment(136.44, 137.32)>, <Segment(137.68, 141.16)>, <Segment(142.12, 146)>, <Segment(144.56, 153.96)>, <Segment(151.52, 151.8)>, <Segment(153.24, 156.04)>, <Segment(156.08, 182.28)>, <Segment(182.28, 195.56)>, <Segment(186.28, 188.88)>, <Segment(192.68, 199.2)>, <Segment(196.92, 197.28)>, <Segment(198.04, 202.96)>, <Segment(199.92, 200.72)>, <Segment(202.08, 203.48)>, <Segment(203.52, 203.84)>, <Segment(204.48, 223.16)>, <Segment(223.04, 224.32)>, <Segment(224.88, 229.6)>, <Segment(229.76, 240.64)>, <Segment(235.64, 236.44)>, <Segment(237.08, 237.76)>, <Segment(238.56, 239.76)>, <Segment(240.36, 244.96)>, <Segment(241.36, 242.48)>, <Segment(245.2, 246.72)>, <Segment(247.64, 259.44)>, <Segment(259.52, 263.88)>, <Segment(264.6, 265.88)>, <Segment(265.92, 274.64)>, <Segment(274.92, 282)>, <Segment(281.28, 284.28)>, <Segment(282.72, 295.72)>, <Segment(295.8, 296.2)>, <Segment(297.6, 300.08)>]\n",
      "HYP segments: [<Segment(0.0309687, 42.0328)>, <Segment(42.0328, 44.9016)>, <Segment(42.2185, 42.2353)>, <Segment(46.2347, 51.6178)>, <Segment(55.2797, 55.7016)>, <Segment(56.2753, 69.9778)>, <Segment(60.0216, 60.4941)>, <Segment(69.9778, 71.5641)>, <Segment(72.526, 84.946)>, <Segment(84.946, 89.6035)>, <Segment(85.1485, 85.5703)>, <Segment(90.8691, 91.3753)>, <Segment(92.1347, 101.855)>, <Segment(99.391, 99.9478)>, <Segment(102.665, 103.222)>, <Segment(103.694, 109.178)>, <Segment(107.356, 121.092)>, <Segment(121.48, 124.231)>, <Segment(122.965, 141.376)>, <Segment(124.568, 125.429)>, <Segment(125.868, 127.049)>, <Segment(130.424, 135.014)>, <Segment(136.533, 137.36)>, <Segment(141.983, 144.97)>, <Segment(144.97, 153.627)>, <Segment(145.493, 145.78)>, <Segment(151.535, 151.737)>, <Segment(153.627, 182.264)>, <Segment(153.695, 153.897)>, <Segment(182.264, 195.578)>, <Segment(186.179, 188.693)>, <Segment(192.642, 199.122)>, <Segment(197.873, 199.24)>, <Segment(199.24, 199.645)>, <Segment(199.645, 203.307)>, <Segment(199.713, 200.472)>, <Segment(201.907, 202.767)>, <Segment(203.307, 223.068)>, <Segment(223.068, 229.548)>, <Segment(229.548, 236.45)>, <Segment(235.505, 236.467)>, <Segment(236.467, 236.652)>, <Segment(236.855, 240.567)>, <Segment(237.513, 237.631)>, <Segment(238.745, 239.825)>, <Segment(240.23, 247.148)>, <Segment(241.327, 242.305)>, <Segment(247.503, 264.007)>, <Segment(264.445, 296.137)>, <Segment(281.067, 282.08)>, <Segment(282.552, 282.974)>, <Segment(283.126, 284.341)>, <Segment(297.537, 299.714)>]\n",
      "jaccard error rate: {'speaker error': 0.14528478724802701, 'speaker count': 2.0, 'jaccard error rate': 0.07264239362401351}\n",
      "Processing C:\\Users\\hazel\\speaker-diarization\\scripts\\speaker_diarization\\hf_voxconverse_data\\sample_9\\sample_9.wav...\n"
     ]
    },
    {
     "name": "stderr",
     "output_type": "stream",
     "text": [
      "C:\\Users\\hazel\\anaconda3\\Lib\\site-packages\\pyannote\\metrics\\utils.py:200: UserWarning: 'uem' was approximated by the union of 'reference' and 'hypothesis' extents.\n",
      "  warnings.warn(\n",
      "100%|█████████████████████████████████████████████████████████████████████████████| 10/10 [17:25:24<00:00, 6272.45s/it]"
     ]
    },
    {
     "name": "stdout",
     "output_type": "stream",
     "text": [
      "GT segments: [<Segment(0.16, 15.32)>, <Segment(15.8, 39.68)>, <Segment(41.24, 46.24)>, <Segment(46.32, 47)>, <Segment(47.08, 54.36)>, <Segment(55.36, 115.36)>, <Segment(115.52, 119.68)>, <Segment(120.32, 124.48)>, <Segment(125.04, 135.72)>, <Segment(137.48, 190)>, <Segment(190.24, 195.72)>, <Segment(196.88, 237.08)>, <Segment(237.48, 255.24)>, <Segment(256.84, 285.12)>, <Segment(285.64, 312)>, <Segment(313.36, 359.16)>, <Segment(359.32, 361.72)>, <Segment(362.4, 402.32)>, <Segment(402.52, 405.56)>, <Segment(405.76, 406.44)>]\n",
      "HYP segments: [<Segment(0.0309687, 24.5841)>, <Segment(24.7528, 39.7041)>, <Segment(41.206, 46.3191)>, <Segment(46.3191, 46.876)>, <Segment(46.876, 54.4022)>, <Segment(55.2966, 115.439)>, <Segment(115.439, 119.692)>, <Segment(120.063, 124.585)>, <Segment(125.007, 135.706)>, <Segment(137.056, 190.128)>, <Segment(190.229, 195.595)>, <Segment(196.895, 237.158)>, <Segment(237.344, 255.316)>, <Segment(256.852, 285.269)>, <Segment(285.522, 312.033)>, <Segment(313.096, 359.215)>, <Segment(359.215, 361.814)>, <Segment(362.287, 402.432)>, <Segment(402.432, 406.246)>]\n",
      "diarization error rate: {'total': 393.44000000000005, 'correct': 392.30221875, 'missed detection': 0.5277812499999861, 'false alarm': 3.6840312500000816, 'confusion': 0.610000000000035, 'diarization error rate': 0.012255521807645645}\n",
      "GT segments: [<Segment(0.16, 15.32)>, <Segment(15.8, 39.68)>, <Segment(41.24, 46.24)>, <Segment(46.32, 47)>, <Segment(47.08, 54.36)>, <Segment(55.36, 115.36)>, <Segment(115.52, 119.68)>, <Segment(120.32, 124.48)>, <Segment(125.04, 135.72)>, <Segment(137.48, 190)>, <Segment(190.24, 195.72)>, <Segment(196.88, 237.08)>, <Segment(237.48, 255.24)>, <Segment(256.84, 285.12)>, <Segment(285.64, 312)>, <Segment(313.36, 359.16)>, <Segment(359.32, 361.72)>, <Segment(362.4, 402.32)>, <Segment(402.52, 405.56)>, <Segment(405.76, 406.44)>]\n",
      "HYP segments: [<Segment(0.0309687, 24.5841)>, <Segment(24.7528, 39.7041)>, <Segment(41.206, 46.3191)>, <Segment(46.3191, 46.876)>, <Segment(46.876, 54.4022)>, <Segment(55.2966, 115.439)>, <Segment(115.439, 119.692)>, <Segment(120.063, 124.585)>, <Segment(125.007, 135.706)>, <Segment(137.056, 190.128)>, <Segment(190.229, 195.595)>, <Segment(196.895, 237.158)>, <Segment(237.344, 255.316)>, <Segment(256.852, 285.269)>, <Segment(285.522, 312.033)>, <Segment(313.096, 359.215)>, <Segment(359.215, 361.814)>, <Segment(362.287, 402.432)>, <Segment(402.432, 406.246)>]\n",
      "jaccard error rate: {'speaker error': 0.03211660468083698, 'speaker count': 2.0, 'jaccard error rate': 0.01605830234041849}\n"
     ]
    },
    {
     "name": "stderr",
     "output_type": "stream",
     "text": [
      "\n"
     ]
    }
   ],
   "source": [
    "\n",
    "DEFAULT_CACHE_FOLDER = os.path.join(os.getcwd(), \"cache\")\n",
    "RESULTS_FOLDER = os.path.join(os.getcwd(), \"results\")\n",
    "\n",
    "dataset_kwargs = {\n",
    "        \"dataset\": Datasets.VOX_CONVERSE,\n",
    "        \"data_folder\": \"hf_voxconverse_data\"\n",
    "    }\n",
    "\n",
    "engine_kwargs = {\n",
    "        \"engine\": Engines.PYANNOTE,\n",
    "        \"auth_token\": read_token\n",
    "    }\n",
    "\n",
    "process_kwargs = {\n",
    "        \"verbose\": \"True\"\n",
    "    }\n",
    "\n",
    "dataset = Dataset.create(**dataset_kwargs)\n",
    "print(f\"Dataset: {dataset}\")\n",
    "\n",
    "engine = Engine.create(**engine_kwargs)\n",
    "print(f\"Engine: {engine}\")\n",
    "\n",
    "_process_accuracy(engine, dataset, **process_kwargs)"
   ]
  },
  {
   "cell_type": "code",
   "execution_count": null,
   "id": "25eff3b4",
   "metadata": {},
   "outputs": [],
   "source": []
  }
 ],
 "metadata": {
  "kernelspec": {
   "display_name": "Python 3 (ipykernel)",
   "language": "python",
   "name": "python3"
  },
  "language_info": {
   "codemirror_mode": {
    "name": "ipython",
    "version": 3
   },
   "file_extension": ".py",
   "mimetype": "text/x-python",
   "name": "python",
   "nbconvert_exporter": "python",
   "pygments_lexer": "ipython3",
   "version": "3.11.5"
  }
 },
 "nbformat": 4,
 "nbformat_minor": 5
}
