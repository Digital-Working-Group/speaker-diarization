{
 "cells": [
  {
   "cell_type": "markdown",
   "id": "48b11860",
   "metadata": {},
   "source": [
    "# Accuracy Evaluation"
   ]
  },
  {
   "cell_type": "markdown",
   "id": "d35b9df6",
   "metadata": {},
   "source": [
    "This notebook goes through an example of evaluating the accuracy of a speaker diarization tool.\n",
    "\n",
    "The `process_accuracy()` function evaluates predictions using the Diarization Error rate, and the Jaccard Error rate."
   ]
  },
  {
   "cell_type": "markdown",
   "id": "6717786a",
   "metadata": {},
   "source": [
    "## Accuracy Evaluation Example"
   ]
  },
  {
   "cell_type": "markdown",
   "id": "da4f2736",
   "metadata": {},
   "source": [
    "This script uses the ground truth RTTM file created manually compared to the generated (hypothesis) RTTM file.\n",
    "\n",
    "For instructions on how to get set up with this dataset, please view the [calculate performance](https://github.com/Digital-Working-Group/speaker-diarization/blob/main/README.md#calculate-performance-metrics) section of the README."
   ]
  },
  {
   "cell_type": "code",
   "execution_count": 1,
   "id": "d4f9bf3d",
   "metadata": {},
   "outputs": [],
   "source": [
    "from speaker_diarization_evaluate import process_accuracy"
   ]
  },
  {
   "cell_type": "code",
   "execution_count": 2,
   "id": "e0387c64",
   "metadata": {},
   "outputs": [],
   "source": [
    "import warnings\n",
    "warnings.filterwarnings('ignore')"
   ]
  },
  {
   "cell_type": "code",
   "execution_count": 3,
   "id": "293f1258",
   "metadata": {},
   "outputs": [
    {
     "name": "stdout",
     "output_type": "stream",
     "text": [
      "GT: ground_truth_files/first_minute_Sample_HV_Clip_ground_truth.rttm\n",
      "HYP segments: sample_files/short_wav/first_minute_Sample_HV_Clip.rttm\n",
      "diarization error rate: {'correct': 37.97299999999999, 'false alarm': 3.4509999999999996, 'missed detection': 3.908999999999991, 'total': 48.298, 'confusion': 6.416000000000014, 'diarization error rate': 0.2852292020373515}\n",
      "GT: ground_truth_files/first_minute_Sample_HV_Clip_ground_truth.rttm\n",
      "HYP segments: sample_files/short_wav/first_minute_Sample_HV_Clip.rttm\n",
      "jaccard error rate: {'speaker error': 0.7170421777874325, 'speaker count': 2.0, 'jaccard error rate': 0.35852108889371626}\n"
     ]
    }
   ],
   "source": [
    "process_kwargs = {\n",
    "        \"verbose\": \"True\"\n",
    "    }\n",
    "\n",
    "\n",
    "gt_rttm = \"ground_truth_files/first_minute_Sample_HV_Clip_ground_truth.rttm\"\n",
    "hyp_rttm = \"sample_files/short_wav/first_minute_Sample_HV_Clip.rttm\"\n",
    "\n",
    "process_accuracy(gt_rttm, hyp_rttm, **process_kwargs)"
   ]
  }
 ],
 "metadata": {
  "kernelspec": {
   "display_name": "speaker_diarize_env",
   "language": "python",
   "name": "python3"
  },
  "language_info": {
   "codemirror_mode": {
    "name": "ipython",
    "version": 3
   },
   "file_extension": ".py",
   "mimetype": "text/x-python",
   "name": "python",
   "nbconvert_exporter": "python",
   "pygments_lexer": "ipython3",
   "version": "3.12.11"
  }
 },
 "nbformat": 4,
 "nbformat_minor": 5
}
