{
 "cells": [
  {
   "cell_type": "markdown",
   "id": "4153141b",
   "metadata": {},
   "source": [
    "# Speaker Diarization Example Usages"
   ]
  },
  {
   "cell_type": "markdown",
   "id": "b8642eb8",
   "metadata": {},
   "source": [
    "This notebook will go through example usages for the pyannote-audio diarization tool on an audio file "
   ]
  },
  {
   "cell_type": "markdown",
   "id": "bbde6ad9",
   "metadata": {},
   "source": [
    "## Installation"
   ]
  },
  {
   "cell_type": "markdown",
   "id": "09ee2949",
   "metadata": {},
   "source": [
    "For specific installation instructions nessesary to run the examples in this notebook please [view the installation and setup sections in the README](https://github.com/Digital-Working-Group/speaker-diarization/blob/main/README.md#installation-and-setup)"
   ]
  },
  {
   "cell_type": "markdown",
   "id": "c2f4ca0d",
   "metadata": {},
   "source": [
    "## Usage Examples"
   ]
  },
  {
   "cell_type": "markdown",
   "id": "dbc42acf",
   "metadata": {},
   "source": [
    "The following code blocks show diarization usage examples. They use the function `pyannote_diarize.prep_and_diarize()`, which takes a Hugging Face token, and a list of filepaths as input and diarizes each one. \n",
    "\n",
    "The function outputs a csv and rttm file for every input file. The csv file reformats the rttm file."
   ]
  },
  {
   "cell_type": "markdown",
   "id": "893abd6b",
   "metadata": {},
   "source": [
    "### Example with first_ten_Sample_HV_Clip.wav"
   ]
  },
  {
   "cell_type": "code",
   "execution_count": null,
   "id": "e5950a5d",
   "metadata": {},
   "outputs": [],
   "source": [
    "from scripts.speaker_diarization.read_token import read_token\n",
    "from pyannote_diarize import prep_and_diarize"
   ]
  },
  {
   "cell_type": "code",
   "execution_count": null,
   "id": "bc8861a1",
   "metadata": {},
   "outputs": [],
   "source": [
    "token = read_token()\n",
    "sample_audio_fps = ['sample_files/short_wav/first_ten_Sample_HV_Clip.wav']\n",
    "kwargs = {'num_speakers': 2}\n",
    "prep_and_diarize(token, sample_audio_fps, **kwargs)\n"
   ]
  },
  {
   "cell_type": "markdown",
   "id": "7bb955d4",
   "metadata": {},
   "source": [
    "### Example with Sample_HV_Clip.wav"
   ]
  },
  {
   "cell_type": "code",
   "execution_count": null,
   "id": "61680dfb",
   "metadata": {},
   "outputs": [],
   "source": [
    "from scripts.speaker_diarization.read_token import read_token\n",
    "from pyannote_diarize import prep_and_diarize"
   ]
  },
  {
   "cell_type": "code",
   "execution_count": null,
   "id": "3d4f3b81",
   "metadata": {},
   "outputs": [],
   "source": [
    "token = read_token()\n",
    "sample_audio_fps = ['sample_files/short_wav/Sample_HV_Clip.wav']\n",
    "kwargs = {'num_speakers': 2}\n",
    "prep_and_diarize(token, sample_audio_fps, **kwargs)"
   ]
  },
  {
   "cell_type": "code",
   "execution_count": null,
   "id": "9a405346",
   "metadata": {},
   "outputs": [],
   "source": []
  }
 ],
 "metadata": {
  "kernelspec": {
   "display_name": "venv",
   "language": "python",
   "name": "venv"
  },
  "language_info": {
   "codemirror_mode": {
    "name": "ipython",
    "version": 3
   },
   "file_extension": ".py",
   "mimetype": "text/x-python",
   "name": "python",
   "nbconvert_exporter": "python",
   "pygments_lexer": "ipython3",
   "version": "3.9.6"
  }
 },
 "nbformat": 4,
 "nbformat_minor": 5
}
