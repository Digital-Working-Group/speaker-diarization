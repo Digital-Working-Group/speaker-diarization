{
 "cells": [
  {
   "cell_type": "markdown",
   "id": "4153141b",
   "metadata": {},
   "source": [
    "# Speaker Diarization Example Usages"
   ]
  },
  {
   "cell_type": "markdown",
   "id": "b8642eb8",
   "metadata": {},
   "source": [
    "This notebook will go through example usages for the pyannote-audio diarization tool on an audio file "
   ]
  },
  {
   "cell_type": "markdown",
   "id": "bbde6ad9",
   "metadata": {},
   "source": [
    "## Installation"
   ]
  },
  {
   "cell_type": "markdown",
   "id": "09ee2949",
   "metadata": {},
   "source": [
    "For specific installation instructions nessesary to run the examples in this notebook please [view installation and setup in README](https://github.com/Digital-Working-Group/speaker-diarization/blob/main/README.md#installation-and-setup)"
   ]
  },
  {
   "cell_type": "markdown",
   "id": "c2f4ca0d",
   "metadata": {},
   "source": [
    "## Usage Examples"
   ]
  },
  {
   "cell_type": "markdown",
   "id": "dbc42acf",
   "metadata": {},
   "source": [
    "The following code blcks show diarization usage examples. They use the function `pyannote_diarize.prep_and_diarize()`, which takes a Hugging Face token, and a list of filepaths as input and diarizes each one. \n",
    "\n",
    "The function outputs a csv and rttm file for every input file. The csv file summarizes the information found in the rttm files"
   ]
  },
  {
   "cell_type": "markdown",
   "id": "893abd6b",
   "metadata": {},
   "source": [
    "### Example with first_ten_Sample_HV_Clip.wav"
   ]
  },
  {
   "cell_type": "code",
   "execution_count": 1,
   "id": "e5950a5d",
   "metadata": {},
   "outputs": [
    {
     "name": "stderr",
     "output_type": "stream",
     "text": [
      "C:\\Users\\hazel\\anaconda3\\Lib\\site-packages\\pandas\\core\\arrays\\masked.py:61: UserWarning: Pandas requires version '1.3.6' or newer of 'bottleneck' (version '1.3.5' currently installed).\n",
      "  from pandas.core import (\n"
     ]
    }
   ],
   "source": [
    "from scripts.speaker_diarization.read_token import read_token\n",
    "from pyannote_diarize import prep_and_diarize"
   ]
  },
  {
   "cell_type": "code",
   "execution_count": 2,
   "id": "bc8861a1",
   "metadata": {},
   "outputs": [
    {
     "name": "stderr",
     "output_type": "stream",
     "text": [
      "C:\\Users\\hazel\\anaconda3\\Lib\\inspect.py:992: UserWarning: Module 'speechbrain.pretrained' was deprecated, redirecting to 'speechbrain.inference'. Please update your script. This is a change from SpeechBrain 1.0. See: https://github.com/speechbrain/speechbrain/releases/tag/v1.0.0\n",
      "  if ismodule(module) and hasattr(module, '__file__'):\n"
     ]
    },
    {
     "data": {
      "application/vnd.jupyter.widget-view+json": {
       "model_id": "ccf706174449422dbd04c97bf4db464f",
       "version_major": 2,
       "version_minor": 0
      },
      "text/plain": [
       "Output()"
      ]
     },
     "metadata": {},
     "output_type": "display_data"
    },
    {
     "name": "stdout",
     "output_type": "stream",
     "text": [
      "sample_files/short_wav/first_ten_Sample_HV_Clip.wav\n"
     ]
    },
    {
     "data": {
      "text/html": [
       "<pre style=\"white-space:pre;overflow-x:auto;line-height:normal;font-family:Menlo,'DejaVu Sans Mono',consolas,'Courier New',monospace\">C:\\Users\\hazel\\anaconda3\\Lib\\site-packages\\pyannote\\audio\\models\\blocks\\pooling.py:104: UserWarning: std(): degrees\n",
       "of freedom is &lt;= 0. Correction should be strictly less than the reduction factor (input numel divided by output \n",
       "numel). (Triggered internally at \n",
       "C:\\actions-runner\\_work\\pytorch\\pytorch\\pytorch\\aten\\src\\ATen\\native\\ReduceOps.cpp:1831.)\n",
       "  std = sequences.std(dim=-1, correction=1)\n",
       "</pre>\n"
      ],
      "text/plain": [
       "C:\\Users\\hazel\\anaconda3\\Lib\\site-packages\\pyannote\\audio\\models\\blocks\\pooling.py:104: UserWarning: std(): degrees\n",
       "of freedom is <= 0. Correction should be strictly less than the reduction factor (input numel divided by output \n",
       "numel). (Triggered internally at \n",
       "C:\\actions-runner\\_work\\pytorch\\pytorch\\pytorch\\aten\\src\\ATen\\native\\ReduceOps.cpp:1831.)\n",
       "  std = sequences.std(dim=-1, correction=1)\n"
      ]
     },
     "metadata": {},
     "output_type": "display_data"
    },
    {
     "data": {
      "text/html": [
       "<pre style=\"white-space:pre;overflow-x:auto;line-height:normal;font-family:Menlo,'DejaVu Sans Mono',consolas,'Courier New',monospace\">sample_files/short_wav/first_ten_Sample_HV_Clip.rttm\n",
       "</pre>\n"
      ],
      "text/plain": [
       "sample_files/short_wav/first_ten_Sample_HV_Clip.rttm\n"
      ]
     },
     "metadata": {},
     "output_type": "display_data"
    },
    {
     "data": {
      "text/html": [
       "<pre style=\"white-space:pre;overflow-x:auto;line-height:normal;font-family:Menlo,'DejaVu Sans Mono',consolas,'Courier New',monospace\"></pre>\n"
      ],
      "text/plain": []
     },
     "metadata": {},
     "output_type": "display_data"
    },
    {
     "name": "stdout",
     "output_type": "stream",
     "text": [
      "sample_files/short_wav/first_ten_Sample_HV_Clip.csv\n"
     ]
    }
   ],
   "source": [
    "token = read_token()\n",
    "sample_audio_fps = ['sample_files/short_wav/first_ten_Sample_HV_Clip.wav']\n",
    "kwargs = {'num_speakers': 2}\n",
    "prep_and_diarize(token, sample_audio_fps, **kwargs)\n"
   ]
  },
  {
   "cell_type": "markdown",
   "id": "7bb955d4",
   "metadata": {},
   "source": [
    "### Example with Sample_HV_Clip.wav"
   ]
  },
  {
   "cell_type": "code",
   "execution_count": 3,
   "id": "61680dfb",
   "metadata": {},
   "outputs": [],
   "source": [
    "from scripts.speaker_diarization.read_token import read_token\n",
    "from pyannote_diarize import prep_and_diarize"
   ]
  },
  {
   "cell_type": "code",
   "execution_count": 4,
   "id": "3d4f3b81",
   "metadata": {},
   "outputs": [
    {
     "name": "stdout",
     "output_type": "stream",
     "text": [
      "sample_files/short_wav/Sample_HV_Clip.wav\n"
     ]
    },
    {
     "data": {
      "application/vnd.jupyter.widget-view+json": {
       "model_id": "68957cc8e429415b861a0d2011229ac7",
       "version_major": 2,
       "version_minor": 0
      },
      "text/plain": [
       "Output()"
      ]
     },
     "metadata": {},
     "output_type": "display_data"
    },
    {
     "data": {
      "text/html": [
       "<pre style=\"white-space:pre;overflow-x:auto;line-height:normal;font-family:Menlo,'DejaVu Sans Mono',consolas,'Courier New',monospace\">C:\\Users\\hazel\\anaconda3\\Lib\\site-packages\\pyannote\\audio\\models\\blocks\\pooling.py:104: UserWarning: std(): degrees\n",
       "of freedom is &lt;= 0. Correction should be strictly less than the reduction factor (input numel divided by output \n",
       "numel). (Triggered internally at \n",
       "C:\\actions-runner\\_work\\pytorch\\pytorch\\pytorch\\aten\\src\\ATen\\native\\ReduceOps.cpp:1831.)\n",
       "  std = sequences.std(dim=-1, correction=1)\n",
       "</pre>\n"
      ],
      "text/plain": [
       "C:\\Users\\hazel\\anaconda3\\Lib\\site-packages\\pyannote\\audio\\models\\blocks\\pooling.py:104: UserWarning: std(): degrees\n",
       "of freedom is <= 0. Correction should be strictly less than the reduction factor (input numel divided by output \n",
       "numel). (Triggered internally at \n",
       "C:\\actions-runner\\_work\\pytorch\\pytorch\\pytorch\\aten\\src\\ATen\\native\\ReduceOps.cpp:1831.)\n",
       "  std = sequences.std(dim=-1, correction=1)\n"
      ]
     },
     "metadata": {},
     "output_type": "display_data"
    },
    {
     "data": {
      "text/html": [
       "<pre style=\"white-space:pre;overflow-x:auto;line-height:normal;font-family:Menlo,'DejaVu Sans Mono',consolas,'Courier New',monospace\">sample_files/short_wav/Sample_HV_Clip.rttm\n",
       "</pre>\n"
      ],
      "text/plain": [
       "sample_files/short_wav/Sample_HV_Clip.rttm\n"
      ]
     },
     "metadata": {},
     "output_type": "display_data"
    },
    {
     "data": {
      "text/html": [
       "<pre style=\"white-space:pre;overflow-x:auto;line-height:normal;font-family:Menlo,'DejaVu Sans Mono',consolas,'Courier New',monospace\"></pre>\n"
      ],
      "text/plain": []
     },
     "metadata": {},
     "output_type": "display_data"
    },
    {
     "name": "stdout",
     "output_type": "stream",
     "text": [
      "sample_files/short_wav/Sample_HV_Clip.csv\n"
     ]
    }
   ],
   "source": [
    "token = read_token()\n",
    "sample_audio_fps = ['sample_files/short_wav/Sample_HV_Clip.wav']\n",
    "kwargs = {'num_speakers': 2}\n",
    "prep_and_diarize(token, sample_audio_fps, **kwargs)"
   ]
  }
 ],
 "metadata": {
  "kernelspec": {
   "display_name": "Python 3 (ipykernel)",
   "language": "python",
   "name": "python3"
  },
  "language_info": {
   "codemirror_mode": {
    "name": "ipython",
    "version": 3
   },
   "file_extension": ".py",
   "mimetype": "text/x-python",
   "name": "python",
   "nbconvert_exporter": "python",
   "pygments_lexer": "ipython3",
   "version": "3.11.5"
  }
 },
 "nbformat": 4,
 "nbformat_minor": 5
}
